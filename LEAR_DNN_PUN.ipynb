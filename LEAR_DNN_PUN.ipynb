{
 "cells": [
  {
   "cell_type": "code",
   "execution_count": 1,
   "metadata": {},
   "outputs": [
    {
     "name": "stdout",
     "output_type": "stream",
     "text": [
      "WARNING:tensorflow:From c:\\Users\\CTLGNN00C\\AppData\\Local\\anaconda3\\envs\\epftoolbox\\lib\\site-packages\\keras\\src\\losses.py:2976: The name tf.losses.sparse_softmax_cross_entropy is deprecated. Please use tf.compat.v1.losses.sparse_softmax_cross_entropy instead.\n",
      "\n"
     ]
    }
   ],
   "source": [
    "import pandas as pd\n",
    "import pandas as pd\n",
    "import numpy as np\n",
    "import matplotlib\n",
    "import matplotlib.pyplot as plt\n",
    "from copy import deepcopy\n",
    "\n",
    "from epftoolbox.evaluation import MAE, sMAPE\n",
    "from sklearn.metrics import mean_absolute_percentage_error\n",
    "from epftoolbox.models import hyperparameter_optimizer"
   ]
  },
  {
   "cell_type": "code",
   "execution_count": 2,
   "metadata": {},
   "outputs": [],
   "source": [
    "%run C:\\Users\\CTLGNN00C\\Documents\\GitHub\\epftoolbox\\epftoolbox\\models\\_lear.py\n",
    "%run C:\\Users\\CTLGNN00C\\Documents\\GitHub\\epftoolbox\\epftoolbox\\models\\_dnn.py"
   ]
  },
  {
   "cell_type": "markdown",
   "metadata": {},
   "source": [
    "## Caricamento dati"
   ]
  },
  {
   "cell_type": "code",
   "execution_count": 3,
   "metadata": {},
   "outputs": [],
   "source": [
    "path = \"C:/Users/CTLGNN00C/Documents/ENERGY/Progetto MGP/Dati/Prezzi\"\n",
    "\n",
    "path_2020 = \"/Anno2020/Anno 2020_12.xlsx\"\n",
    "path_2021 = \"/Anno2021/Anno 2021_12.xlsx\"\n",
    "path_2022 = \"/Anno2022/Anno 2022_12.xlsx\"\n",
    "\n",
    "path_2023 = \"/Anno2023/Anno 2023_12.xlsx\"\n",
    "path_2024 = \"/Anno2024/Anno 2024_08.xlsx\"\n"
   ]
  },
  {
   "cell_type": "code",
   "execution_count": 4,
   "metadata": {},
   "outputs": [],
   "source": [
    "prezzi2020_df = pd.read_excel(path+path_2020, sheet_name=\"Prezzi-Prices\")\n",
    "prezzi2021_df = pd.read_excel(path+path_2021, sheet_name=\"Prezzi-Prices\")\n",
    "prezzi2022_df = pd.read_excel(path+path_2022, sheet_name=\"Prezzi-Prices\")\n",
    "\n",
    "prezzi2023_df = pd.read_excel(path+path_2023, sheet_name=\"Prezzi-Prices\")\n",
    "prezzi2024_df = pd.read_excel(path+path_2024, sheet_name=\"Prezzi-Prices\")"
   ]
  },
  {
   "cell_type": "code",
   "execution_count": 5,
   "metadata": {},
   "outputs": [],
   "source": [
    "# Prezzi 20-22 \n",
    "prezzi2020_df = prezzi2020_df.iloc[:, :3]\n",
    "prezzi2021_df = prezzi2021_df.iloc[:, :3]\n",
    "prezzi2022_df = prezzi2022_df.iloc[:, :3]\n",
    "\n",
    "prezzi_20_21 = pd.concat([prezzi2020_df, prezzi2021_df])\n",
    "train_df = pd.concat([prezzi_20_21, prezzi2022_df])\n",
    "\n",
    "# Prezzi 23-24\n",
    "prezzi2023_df = prezzi2023_df.iloc[:,:3]\n",
    "prezzi2024_df = prezzi2024_df.iloc[:, :3]\n",
    "\n",
    "test_df = pd.concat([prezzi2023_df, prezzi2024_df])\n",
    "\n",
    "\n"
   ]
  },
  {
   "cell_type": "code",
   "execution_count": 6,
   "metadata": {},
   "outputs": [],
   "source": [
    "# Riformattiamo gli indici (per evitare duplicati)\n",
    "train_df.reset_index(drop=True, inplace=True)\n",
    "test_df.reset_index(drop=True, inplace=True)"
   ]
  },
  {
   "cell_type": "code",
   "execution_count": 7,
   "metadata": {},
   "outputs": [
    {
     "data": {
      "text/plain": [
       "(0, 0)"
      ]
     },
     "execution_count": 7,
     "metadata": {},
     "output_type": "execute_result"
    }
   ],
   "source": [
    "train_df.index.duplicated().sum(), test_df.index.duplicated().sum()\n"
   ]
  },
  {
   "cell_type": "code",
   "execution_count": 8,
   "metadata": {},
   "outputs": [
    {
     "data": {
      "text/html": [
       "<div>\n",
       "<style scoped>\n",
       "    .dataframe tbody tr th:only-of-type {\n",
       "        vertical-align: middle;\n",
       "    }\n",
       "\n",
       "    .dataframe tbody tr th {\n",
       "        vertical-align: top;\n",
       "    }\n",
       "\n",
       "    .dataframe thead th {\n",
       "        text-align: right;\n",
       "    }\n",
       "</style>\n",
       "<table border=\"1\" class=\"dataframe\">\n",
       "  <thead>\n",
       "    <tr style=\"text-align: right;\">\n",
       "      <th></th>\n",
       "      <th>Data/Date\\n(YYYYMMDD)</th>\n",
       "      <th>Ora\\n/Hour</th>\n",
       "      <th>PUN</th>\n",
       "    </tr>\n",
       "  </thead>\n",
       "  <tbody>\n",
       "    <tr>\n",
       "      <th>0</th>\n",
       "      <td>20200101</td>\n",
       "      <td>1</td>\n",
       "      <td>41.88000</td>\n",
       "    </tr>\n",
       "    <tr>\n",
       "      <th>1</th>\n",
       "      <td>20200101</td>\n",
       "      <td>2</td>\n",
       "      <td>38.63858</td>\n",
       "    </tr>\n",
       "    <tr>\n",
       "      <th>2</th>\n",
       "      <td>20200101</td>\n",
       "      <td>3</td>\n",
       "      <td>36.55000</td>\n",
       "    </tr>\n",
       "    <tr>\n",
       "      <th>3</th>\n",
       "      <td>20200101</td>\n",
       "      <td>4</td>\n",
       "      <td>32.31772</td>\n",
       "    </tr>\n",
       "    <tr>\n",
       "      <th>4</th>\n",
       "      <td>20200101</td>\n",
       "      <td>5</td>\n",
       "      <td>30.85000</td>\n",
       "    </tr>\n",
       "    <tr>\n",
       "      <th>5</th>\n",
       "      <td>20200101</td>\n",
       "      <td>6</td>\n",
       "      <td>30.13762</td>\n",
       "    </tr>\n",
       "    <tr>\n",
       "      <th>6</th>\n",
       "      <td>20200101</td>\n",
       "      <td>7</td>\n",
       "      <td>30.16953</td>\n",
       "    </tr>\n",
       "    <tr>\n",
       "      <th>7</th>\n",
       "      <td>20200101</td>\n",
       "      <td>8</td>\n",
       "      <td>30.00000</td>\n",
       "    </tr>\n",
       "    <tr>\n",
       "      <th>8</th>\n",
       "      <td>20200101</td>\n",
       "      <td>9</td>\n",
       "      <td>30.65000</td>\n",
       "    </tr>\n",
       "    <tr>\n",
       "      <th>9</th>\n",
       "      <td>20200101</td>\n",
       "      <td>10</td>\n",
       "      <td>30.65000</td>\n",
       "    </tr>\n",
       "    <tr>\n",
       "      <th>10</th>\n",
       "      <td>20200101</td>\n",
       "      <td>11</td>\n",
       "      <td>30.27327</td>\n",
       "    </tr>\n",
       "    <tr>\n",
       "      <th>11</th>\n",
       "      <td>20200101</td>\n",
       "      <td>12</td>\n",
       "      <td>30.34000</td>\n",
       "    </tr>\n",
       "    <tr>\n",
       "      <th>12</th>\n",
       "      <td>20200101</td>\n",
       "      <td>13</td>\n",
       "      <td>30.99000</td>\n",
       "    </tr>\n",
       "    <tr>\n",
       "      <th>13</th>\n",
       "      <td>20200101</td>\n",
       "      <td>14</td>\n",
       "      <td>30.04245</td>\n",
       "    </tr>\n",
       "    <tr>\n",
       "      <th>14</th>\n",
       "      <td>20200101</td>\n",
       "      <td>15</td>\n",
       "      <td>30.75000</td>\n",
       "    </tr>\n",
       "    <tr>\n",
       "      <th>15</th>\n",
       "      <td>20200101</td>\n",
       "      <td>16</td>\n",
       "      <td>32.11436</td>\n",
       "    </tr>\n",
       "    <tr>\n",
       "      <th>16</th>\n",
       "      <td>20200101</td>\n",
       "      <td>17</td>\n",
       "      <td>35.97992</td>\n",
       "    </tr>\n",
       "    <tr>\n",
       "      <th>17</th>\n",
       "      <td>20200101</td>\n",
       "      <td>18</td>\n",
       "      <td>42.79188</td>\n",
       "    </tr>\n",
       "    <tr>\n",
       "      <th>18</th>\n",
       "      <td>20200101</td>\n",
       "      <td>19</td>\n",
       "      <td>45.63896</td>\n",
       "    </tr>\n",
       "    <tr>\n",
       "      <th>19</th>\n",
       "      <td>20200101</td>\n",
       "      <td>20</td>\n",
       "      <td>48.63322</td>\n",
       "    </tr>\n",
       "    <tr>\n",
       "      <th>20</th>\n",
       "      <td>20200101</td>\n",
       "      <td>21</td>\n",
       "      <td>48.96257</td>\n",
       "    </tr>\n",
       "    <tr>\n",
       "      <th>21</th>\n",
       "      <td>20200101</td>\n",
       "      <td>22</td>\n",
       "      <td>43.30498</td>\n",
       "    </tr>\n",
       "    <tr>\n",
       "      <th>22</th>\n",
       "      <td>20200101</td>\n",
       "      <td>23</td>\n",
       "      <td>40.65924</td>\n",
       "    </tr>\n",
       "    <tr>\n",
       "      <th>23</th>\n",
       "      <td>20200101</td>\n",
       "      <td>24</td>\n",
       "      <td>36.68655</td>\n",
       "    </tr>\n",
       "    <tr>\n",
       "      <th>24</th>\n",
       "      <td>20200102</td>\n",
       "      <td>1</td>\n",
       "      <td>35.40267</td>\n",
       "    </tr>\n",
       "    <tr>\n",
       "      <th>25</th>\n",
       "      <td>20200102</td>\n",
       "      <td>2</td>\n",
       "      <td>31.98128</td>\n",
       "    </tr>\n",
       "    <tr>\n",
       "      <th>26</th>\n",
       "      <td>20200102</td>\n",
       "      <td>3</td>\n",
       "      <td>30.50000</td>\n",
       "    </tr>\n",
       "    <tr>\n",
       "      <th>27</th>\n",
       "      <td>20200102</td>\n",
       "      <td>4</td>\n",
       "      <td>28.78723</td>\n",
       "    </tr>\n",
       "    <tr>\n",
       "      <th>28</th>\n",
       "      <td>20200102</td>\n",
       "      <td>5</td>\n",
       "      <td>28.95000</td>\n",
       "    </tr>\n",
       "    <tr>\n",
       "      <th>29</th>\n",
       "      <td>20200102</td>\n",
       "      <td>6</td>\n",
       "      <td>31.30000</td>\n",
       "    </tr>\n",
       "    <tr>\n",
       "      <th>30</th>\n",
       "      <td>20200102</td>\n",
       "      <td>7</td>\n",
       "      <td>41.00000</td>\n",
       "    </tr>\n",
       "    <tr>\n",
       "      <th>31</th>\n",
       "      <td>20200102</td>\n",
       "      <td>8</td>\n",
       "      <td>48.49424</td>\n",
       "    </tr>\n",
       "    <tr>\n",
       "      <th>32</th>\n",
       "      <td>20200102</td>\n",
       "      <td>9</td>\n",
       "      <td>48.69028</td>\n",
       "    </tr>\n",
       "    <tr>\n",
       "      <th>33</th>\n",
       "      <td>20200102</td>\n",
       "      <td>10</td>\n",
       "      <td>48.63327</td>\n",
       "    </tr>\n",
       "    <tr>\n",
       "      <th>34</th>\n",
       "      <td>20200102</td>\n",
       "      <td>11</td>\n",
       "      <td>45.56537</td>\n",
       "    </tr>\n",
       "    <tr>\n",
       "      <th>35</th>\n",
       "      <td>20200102</td>\n",
       "      <td>12</td>\n",
       "      <td>45.71000</td>\n",
       "    </tr>\n",
       "    <tr>\n",
       "      <th>36</th>\n",
       "      <td>20200102</td>\n",
       "      <td>13</td>\n",
       "      <td>45.15529</td>\n",
       "    </tr>\n",
       "    <tr>\n",
       "      <th>37</th>\n",
       "      <td>20200102</td>\n",
       "      <td>14</td>\n",
       "      <td>44.90115</td>\n",
       "    </tr>\n",
       "    <tr>\n",
       "      <th>38</th>\n",
       "      <td>20200102</td>\n",
       "      <td>15</td>\n",
       "      <td>47.08000</td>\n",
       "    </tr>\n",
       "    <tr>\n",
       "      <th>39</th>\n",
       "      <td>20200102</td>\n",
       "      <td>16</td>\n",
       "      <td>50.08115</td>\n",
       "    </tr>\n",
       "    <tr>\n",
       "      <th>40</th>\n",
       "      <td>20200102</td>\n",
       "      <td>17</td>\n",
       "      <td>58.18632</td>\n",
       "    </tr>\n",
       "    <tr>\n",
       "      <th>41</th>\n",
       "      <td>20200102</td>\n",
       "      <td>18</td>\n",
       "      <td>61.57491</td>\n",
       "    </tr>\n",
       "    <tr>\n",
       "      <th>42</th>\n",
       "      <td>20200102</td>\n",
       "      <td>19</td>\n",
       "      <td>61.88805</td>\n",
       "    </tr>\n",
       "    <tr>\n",
       "      <th>43</th>\n",
       "      <td>20200102</td>\n",
       "      <td>20</td>\n",
       "      <td>61.71904</td>\n",
       "    </tr>\n",
       "    <tr>\n",
       "      <th>44</th>\n",
       "      <td>20200102</td>\n",
       "      <td>21</td>\n",
       "      <td>58.31576</td>\n",
       "    </tr>\n",
       "    <tr>\n",
       "      <th>45</th>\n",
       "      <td>20200102</td>\n",
       "      <td>22</td>\n",
       "      <td>55.32754</td>\n",
       "    </tr>\n",
       "    <tr>\n",
       "      <th>46</th>\n",
       "      <td>20200102</td>\n",
       "      <td>23</td>\n",
       "      <td>46.02472</td>\n",
       "    </tr>\n",
       "    <tr>\n",
       "      <th>47</th>\n",
       "      <td>20200102</td>\n",
       "      <td>24</td>\n",
       "      <td>42.62171</td>\n",
       "    </tr>\n",
       "    <tr>\n",
       "      <th>48</th>\n",
       "      <td>20200103</td>\n",
       "      <td>1</td>\n",
       "      <td>34.85242</td>\n",
       "    </tr>\n",
       "    <tr>\n",
       "      <th>49</th>\n",
       "      <td>20200103</td>\n",
       "      <td>2</td>\n",
       "      <td>33.95274</td>\n",
       "    </tr>\n",
       "  </tbody>\n",
       "</table>\n",
       "</div>"
      ],
      "text/plain": [
       "       Data/Date\\n(YYYYMMDD)  Ora\\n/Hour       PUN\n",
       "0                   20200101           1  41.88000\n",
       "1                   20200101           2  38.63858\n",
       "2                   20200101           3  36.55000\n",
       "3                   20200101           4  32.31772\n",
       "4                   20200101           5  30.85000\n",
       "5                   20200101           6  30.13762\n",
       "6                   20200101           7  30.16953\n",
       "7                   20200101           8  30.00000\n",
       "8                   20200101           9  30.65000\n",
       "9                   20200101          10  30.65000\n",
       "10                  20200101          11  30.27327\n",
       "11                  20200101          12  30.34000\n",
       "12                  20200101          13  30.99000\n",
       "13                  20200101          14  30.04245\n",
       "14                  20200101          15  30.75000\n",
       "15                  20200101          16  32.11436\n",
       "16                  20200101          17  35.97992\n",
       "17                  20200101          18  42.79188\n",
       "18                  20200101          19  45.63896\n",
       "19                  20200101          20  48.63322\n",
       "20                  20200101          21  48.96257\n",
       "21                  20200101          22  43.30498\n",
       "22                  20200101          23  40.65924\n",
       "23                  20200101          24  36.68655\n",
       "24                  20200102           1  35.40267\n",
       "25                  20200102           2  31.98128\n",
       "26                  20200102           3  30.50000\n",
       "27                  20200102           4  28.78723\n",
       "28                  20200102           5  28.95000\n",
       "29                  20200102           6  31.30000\n",
       "30                  20200102           7  41.00000\n",
       "31                  20200102           8  48.49424\n",
       "32                  20200102           9  48.69028\n",
       "33                  20200102          10  48.63327\n",
       "34                  20200102          11  45.56537\n",
       "35                  20200102          12  45.71000\n",
       "36                  20200102          13  45.15529\n",
       "37                  20200102          14  44.90115\n",
       "38                  20200102          15  47.08000\n",
       "39                  20200102          16  50.08115\n",
       "40                  20200102          17  58.18632\n",
       "41                  20200102          18  61.57491\n",
       "42                  20200102          19  61.88805\n",
       "43                  20200102          20  61.71904\n",
       "44                  20200102          21  58.31576\n",
       "45                  20200102          22  55.32754\n",
       "46                  20200102          23  46.02472\n",
       "47                  20200102          24  42.62171\n",
       "48                  20200103           1  34.85242\n",
       "49                  20200103           2  33.95274"
      ]
     },
     "execution_count": 8,
     "metadata": {},
     "output_type": "execute_result"
    }
   ],
   "source": [
    "train_df.iloc[0:50, :]"
   ]
  },
  {
   "cell_type": "code",
   "execution_count": 9,
   "metadata": {},
   "outputs": [],
   "source": [
    "# Riportiamo le ore a 0 - 23 piuttosto che 1-24\n",
    "train_df['Ora\\n/Hour'] = train_df['Ora\\n/Hour'].apply(lambda x: x - 1)\n",
    "test_df['Ora\\n/Hour'] = test_df['Ora\\n/Hour'].apply(lambda x: x - 1)"
   ]
  },
  {
   "cell_type": "code",
   "execution_count": 10,
   "metadata": {},
   "outputs": [
    {
     "data": {
      "text/html": [
       "<div>\n",
       "<style scoped>\n",
       "    .dataframe tbody tr th:only-of-type {\n",
       "        vertical-align: middle;\n",
       "    }\n",
       "\n",
       "    .dataframe tbody tr th {\n",
       "        vertical-align: top;\n",
       "    }\n",
       "\n",
       "    .dataframe thead th {\n",
       "        text-align: right;\n",
       "    }\n",
       "</style>\n",
       "<table border=\"1\" class=\"dataframe\">\n",
       "  <thead>\n",
       "    <tr style=\"text-align: right;\">\n",
       "      <th></th>\n",
       "      <th>Data/Date\\n(YYYYMMDD)</th>\n",
       "      <th>Ora\\n/Hour</th>\n",
       "      <th>PUN</th>\n",
       "    </tr>\n",
       "  </thead>\n",
       "  <tbody>\n",
       "    <tr>\n",
       "      <th>7151</th>\n",
       "      <td>20201025</td>\n",
       "      <td>0</td>\n",
       "      <td>35.00000</td>\n",
       "    </tr>\n",
       "    <tr>\n",
       "      <th>7152</th>\n",
       "      <td>20201025</td>\n",
       "      <td>1</td>\n",
       "      <td>32.30000</td>\n",
       "    </tr>\n",
       "    <tr>\n",
       "      <th>7153</th>\n",
       "      <td>20201025</td>\n",
       "      <td>2</td>\n",
       "      <td>25.00000</td>\n",
       "    </tr>\n",
       "    <tr>\n",
       "      <th>7154</th>\n",
       "      <td>20201025</td>\n",
       "      <td>3</td>\n",
       "      <td>24.63000</td>\n",
       "    </tr>\n",
       "    <tr>\n",
       "      <th>7155</th>\n",
       "      <td>20201025</td>\n",
       "      <td>4</td>\n",
       "      <td>24.63000</td>\n",
       "    </tr>\n",
       "    <tr>\n",
       "      <th>...</th>\n",
       "      <td>...</td>\n",
       "      <td>...</td>\n",
       "      <td>...</td>\n",
       "    </tr>\n",
       "    <tr>\n",
       "      <th>24810</th>\n",
       "      <td>20221030</td>\n",
       "      <td>19</td>\n",
       "      <td>170.38178</td>\n",
       "    </tr>\n",
       "    <tr>\n",
       "      <th>24811</th>\n",
       "      <td>20221030</td>\n",
       "      <td>20</td>\n",
       "      <td>165.00000</td>\n",
       "    </tr>\n",
       "    <tr>\n",
       "      <th>24812</th>\n",
       "      <td>20221030</td>\n",
       "      <td>21</td>\n",
       "      <td>147.52323</td>\n",
       "    </tr>\n",
       "    <tr>\n",
       "      <th>24813</th>\n",
       "      <td>20221030</td>\n",
       "      <td>22</td>\n",
       "      <td>139.08159</td>\n",
       "    </tr>\n",
       "    <tr>\n",
       "      <th>24814</th>\n",
       "      <td>20221030</td>\n",
       "      <td>23</td>\n",
       "      <td>119.99000</td>\n",
       "    </tr>\n",
       "  </tbody>\n",
       "</table>\n",
       "<p>72 rows × 3 columns</p>\n",
       "</div>"
      ],
      "text/plain": [
       "          Data/Date\\n(YYYYMMDD)  Ora\\n/Hour        PUN\n",
       "7151                   20201025           0   35.00000\n",
       "7152                   20201025           1   32.30000\n",
       "7153                   20201025           2   25.00000\n",
       "7154                   20201025           3   24.63000\n",
       "7155                   20201025           4   24.63000\n",
       "...                         ...         ...        ...\n",
       "24810                  20221030          19  170.38178\n",
       "24811                  20221030          20  165.00000\n",
       "24812                  20221030          21  147.52323\n",
       "24813                  20221030          22  139.08159\n",
       "24814                  20221030          23  119.99000\n",
       "\n",
       "[72 rows x 3 columns]"
      ]
     },
     "execution_count": 10,
     "metadata": {},
     "output_type": "execute_result"
    }
   ],
   "source": [
    "# Ci sono tre giorni in cui le ore segnate sono 25 (da 0 a 24) per cui eliminiamo la 24-esima\n",
    "\n",
    "wrong_dates = train_df['   Data/Date\\n(YYYYMMDD)'][train_df['Ora\\n/Hour'] > 23]\n",
    "\n",
    "wrong_indexes = train_df.loc[(train_df['   Data/Date\\n(YYYYMMDD)'].isin(list(wrong_dates)) ) & (train_df['Ora\\n/Hour'] == 24), :].index\n",
    "\n",
    "train_df.drop(index=wrong_indexes, inplace=True)\n",
    "\n",
    "train_df.loc[(train_df['   Data/Date\\n(YYYYMMDD)'].isin(list(wrong_dates)) ), :]"
   ]
  },
  {
   "cell_type": "code",
   "execution_count": 11,
   "metadata": {},
   "outputs": [
    {
     "data": {
      "text/html": [
       "<div>\n",
       "<style scoped>\n",
       "    .dataframe tbody tr th:only-of-type {\n",
       "        vertical-align: middle;\n",
       "    }\n",
       "\n",
       "    .dataframe tbody tr th {\n",
       "        vertical-align: top;\n",
       "    }\n",
       "\n",
       "    .dataframe thead th {\n",
       "        text-align: right;\n",
       "    }\n",
       "</style>\n",
       "<table border=\"1\" class=\"dataframe\">\n",
       "  <thead>\n",
       "    <tr style=\"text-align: right;\">\n",
       "      <th></th>\n",
       "      <th>Data/Date\\n(YYYYMMDD)</th>\n",
       "      <th>Ora\\n/Hour</th>\n",
       "      <th>PUN</th>\n",
       "    </tr>\n",
       "  </thead>\n",
       "  <tbody>\n",
       "    <tr>\n",
       "      <th>7223</th>\n",
       "      <td>20231029</td>\n",
       "      <td>0</td>\n",
       "      <td>120.39000</td>\n",
       "    </tr>\n",
       "    <tr>\n",
       "      <th>7224</th>\n",
       "      <td>20231029</td>\n",
       "      <td>1</td>\n",
       "      <td>105.41000</td>\n",
       "    </tr>\n",
       "    <tr>\n",
       "      <th>7225</th>\n",
       "      <td>20231029</td>\n",
       "      <td>2</td>\n",
       "      <td>110.00000</td>\n",
       "    </tr>\n",
       "    <tr>\n",
       "      <th>7226</th>\n",
       "      <td>20231029</td>\n",
       "      <td>3</td>\n",
       "      <td>113.00000</td>\n",
       "    </tr>\n",
       "    <tr>\n",
       "      <th>7227</th>\n",
       "      <td>20231029</td>\n",
       "      <td>4</td>\n",
       "      <td>103.94000</td>\n",
       "    </tr>\n",
       "    <tr>\n",
       "      <th>7228</th>\n",
       "      <td>20231029</td>\n",
       "      <td>5</td>\n",
       "      <td>89.00000</td>\n",
       "    </tr>\n",
       "    <tr>\n",
       "      <th>7229</th>\n",
       "      <td>20231029</td>\n",
       "      <td>6</td>\n",
       "      <td>90.00000</td>\n",
       "    </tr>\n",
       "    <tr>\n",
       "      <th>7230</th>\n",
       "      <td>20231029</td>\n",
       "      <td>7</td>\n",
       "      <td>114.98000</td>\n",
       "    </tr>\n",
       "    <tr>\n",
       "      <th>7231</th>\n",
       "      <td>20231029</td>\n",
       "      <td>8</td>\n",
       "      <td>120.40000</td>\n",
       "    </tr>\n",
       "    <tr>\n",
       "      <th>7232</th>\n",
       "      <td>20231029</td>\n",
       "      <td>9</td>\n",
       "      <td>124.78000</td>\n",
       "    </tr>\n",
       "    <tr>\n",
       "      <th>7233</th>\n",
       "      <td>20231029</td>\n",
       "      <td>10</td>\n",
       "      <td>120.36000</td>\n",
       "    </tr>\n",
       "    <tr>\n",
       "      <th>7234</th>\n",
       "      <td>20231029</td>\n",
       "      <td>11</td>\n",
       "      <td>100.49000</td>\n",
       "    </tr>\n",
       "    <tr>\n",
       "      <th>7235</th>\n",
       "      <td>20231029</td>\n",
       "      <td>12</td>\n",
       "      <td>100.00000</td>\n",
       "    </tr>\n",
       "    <tr>\n",
       "      <th>7236</th>\n",
       "      <td>20231029</td>\n",
       "      <td>13</td>\n",
       "      <td>105.00000</td>\n",
       "    </tr>\n",
       "    <tr>\n",
       "      <th>7237</th>\n",
       "      <td>20231029</td>\n",
       "      <td>14</td>\n",
       "      <td>95.00000</td>\n",
       "    </tr>\n",
       "    <tr>\n",
       "      <th>7238</th>\n",
       "      <td>20231029</td>\n",
       "      <td>15</td>\n",
       "      <td>110.00000</td>\n",
       "    </tr>\n",
       "    <tr>\n",
       "      <th>7239</th>\n",
       "      <td>20231029</td>\n",
       "      <td>16</td>\n",
       "      <td>127.81000</td>\n",
       "    </tr>\n",
       "    <tr>\n",
       "      <th>7240</th>\n",
       "      <td>20231029</td>\n",
       "      <td>17</td>\n",
       "      <td>140.03047</td>\n",
       "    </tr>\n",
       "    <tr>\n",
       "      <th>7241</th>\n",
       "      <td>20231029</td>\n",
       "      <td>18</td>\n",
       "      <td>154.19268</td>\n",
       "    </tr>\n",
       "    <tr>\n",
       "      <th>7242</th>\n",
       "      <td>20231029</td>\n",
       "      <td>19</td>\n",
       "      <td>160.00000</td>\n",
       "    </tr>\n",
       "    <tr>\n",
       "      <th>7243</th>\n",
       "      <td>20231029</td>\n",
       "      <td>20</td>\n",
       "      <td>168.42380</td>\n",
       "    </tr>\n",
       "    <tr>\n",
       "      <th>7244</th>\n",
       "      <td>20231029</td>\n",
       "      <td>21</td>\n",
       "      <td>159.01004</td>\n",
       "    </tr>\n",
       "    <tr>\n",
       "      <th>7245</th>\n",
       "      <td>20231029</td>\n",
       "      <td>22</td>\n",
       "      <td>141.95362</td>\n",
       "    </tr>\n",
       "    <tr>\n",
       "      <th>7246</th>\n",
       "      <td>20231029</td>\n",
       "      <td>23</td>\n",
       "      <td>121.57756</td>\n",
       "    </tr>\n",
       "  </tbody>\n",
       "</table>\n",
       "</div>"
      ],
      "text/plain": [
       "         Data/Date\\n(YYYYMMDD)  Ora\\n/Hour        PUN\n",
       "7223                  20231029           0  120.39000\n",
       "7224                  20231029           1  105.41000\n",
       "7225                  20231029           2  110.00000\n",
       "7226                  20231029           3  113.00000\n",
       "7227                  20231029           4  103.94000\n",
       "7228                  20231029           5   89.00000\n",
       "7229                  20231029           6   90.00000\n",
       "7230                  20231029           7  114.98000\n",
       "7231                  20231029           8  120.40000\n",
       "7232                  20231029           9  124.78000\n",
       "7233                  20231029          10  120.36000\n",
       "7234                  20231029          11  100.49000\n",
       "7235                  20231029          12  100.00000\n",
       "7236                  20231029          13  105.00000\n",
       "7237                  20231029          14   95.00000\n",
       "7238                  20231029          15  110.00000\n",
       "7239                  20231029          16  127.81000\n",
       "7240                  20231029          17  140.03047\n",
       "7241                  20231029          18  154.19268\n",
       "7242                  20231029          19  160.00000\n",
       "7243                  20231029          20  168.42380\n",
       "7244                  20231029          21  159.01004\n",
       "7245                  20231029          22  141.95362\n",
       "7246                  20231029          23  121.57756"
      ]
     },
     "execution_count": 11,
     "metadata": {},
     "output_type": "execute_result"
    }
   ],
   "source": [
    "wrong_dates = test_df['   Data/Date\\n(YYYYMMDD)'][test_df['Ora\\n/Hour'] > 23] \n",
    "\n",
    "wrong_indexes = test_df.loc[(test_df['   Data/Date\\n(YYYYMMDD)'].isin(list(wrong_dates)) ) & (test_df['Ora\\n/Hour'] == 24), :].index\n",
    "\n",
    "test_df.drop(index=wrong_indexes, inplace=True)\n",
    "\n",
    "test_df.loc[(test_df['   Data/Date\\n(YYYYMMDD)'].isin(list(wrong_dates)) ), :]"
   ]
  },
  {
   "cell_type": "code",
   "execution_count": 12,
   "metadata": {},
   "outputs": [],
   "source": [
    "train_df['   Data/Date\\n(YYYYMMDD)'] = train_df['   Data/Date\\n(YYYYMMDD)'].apply(lambda x: str(x))\n",
    "train_df['Ora\\n/Hour'] = train_df['Ora\\n/Hour'].apply(lambda x: str(x)).str.zfill(2)\n",
    "\n",
    "test_df['   Data/Date\\n(YYYYMMDD)'] = test_df['   Data/Date\\n(YYYYMMDD)'].apply(lambda x: str(x))\n",
    "test_df['Ora\\n/Hour'] = test_df['Ora\\n/Hour'].apply(lambda x: str(x)).str.zfill(2)\n"
   ]
  },
  {
   "cell_type": "code",
   "execution_count": 13,
   "metadata": {},
   "outputs": [
    {
     "data": {
      "text/html": [
       "<div>\n",
       "<style scoped>\n",
       "    .dataframe tbody tr th:only-of-type {\n",
       "        vertical-align: middle;\n",
       "    }\n",
       "\n",
       "    .dataframe tbody tr th {\n",
       "        vertical-align: top;\n",
       "    }\n",
       "\n",
       "    .dataframe thead th {\n",
       "        text-align: right;\n",
       "    }\n",
       "</style>\n",
       "<table border=\"1\" class=\"dataframe\">\n",
       "  <thead>\n",
       "    <tr style=\"text-align: right;\">\n",
       "      <th></th>\n",
       "      <th>Data/Date\\n(YYYYMMDD)</th>\n",
       "      <th>Ora\\n/Hour</th>\n",
       "      <th>PUN</th>\n",
       "    </tr>\n",
       "  </thead>\n",
       "  <tbody>\n",
       "    <tr>\n",
       "      <th>0</th>\n",
       "      <td>20200101</td>\n",
       "      <td>00</td>\n",
       "      <td>41.88000</td>\n",
       "    </tr>\n",
       "    <tr>\n",
       "      <th>1</th>\n",
       "      <td>20200101</td>\n",
       "      <td>01</td>\n",
       "      <td>38.63858</td>\n",
       "    </tr>\n",
       "    <tr>\n",
       "      <th>2</th>\n",
       "      <td>20200101</td>\n",
       "      <td>02</td>\n",
       "      <td>36.55000</td>\n",
       "    </tr>\n",
       "    <tr>\n",
       "      <th>3</th>\n",
       "      <td>20200101</td>\n",
       "      <td>03</td>\n",
       "      <td>32.31772</td>\n",
       "    </tr>\n",
       "    <tr>\n",
       "      <th>4</th>\n",
       "      <td>20200101</td>\n",
       "      <td>04</td>\n",
       "      <td>30.85000</td>\n",
       "    </tr>\n",
       "    <tr>\n",
       "      <th>5</th>\n",
       "      <td>20200101</td>\n",
       "      <td>05</td>\n",
       "      <td>30.13762</td>\n",
       "    </tr>\n",
       "    <tr>\n",
       "      <th>6</th>\n",
       "      <td>20200101</td>\n",
       "      <td>06</td>\n",
       "      <td>30.16953</td>\n",
       "    </tr>\n",
       "    <tr>\n",
       "      <th>7</th>\n",
       "      <td>20200101</td>\n",
       "      <td>07</td>\n",
       "      <td>30.00000</td>\n",
       "    </tr>\n",
       "    <tr>\n",
       "      <th>8</th>\n",
       "      <td>20200101</td>\n",
       "      <td>08</td>\n",
       "      <td>30.65000</td>\n",
       "    </tr>\n",
       "    <tr>\n",
       "      <th>9</th>\n",
       "      <td>20200101</td>\n",
       "      <td>09</td>\n",
       "      <td>30.65000</td>\n",
       "    </tr>\n",
       "    <tr>\n",
       "      <th>10</th>\n",
       "      <td>20200101</td>\n",
       "      <td>10</td>\n",
       "      <td>30.27327</td>\n",
       "    </tr>\n",
       "    <tr>\n",
       "      <th>11</th>\n",
       "      <td>20200101</td>\n",
       "      <td>11</td>\n",
       "      <td>30.34000</td>\n",
       "    </tr>\n",
       "    <tr>\n",
       "      <th>12</th>\n",
       "      <td>20200101</td>\n",
       "      <td>12</td>\n",
       "      <td>30.99000</td>\n",
       "    </tr>\n",
       "    <tr>\n",
       "      <th>13</th>\n",
       "      <td>20200101</td>\n",
       "      <td>13</td>\n",
       "      <td>30.04245</td>\n",
       "    </tr>\n",
       "    <tr>\n",
       "      <th>14</th>\n",
       "      <td>20200101</td>\n",
       "      <td>14</td>\n",
       "      <td>30.75000</td>\n",
       "    </tr>\n",
       "    <tr>\n",
       "      <th>15</th>\n",
       "      <td>20200101</td>\n",
       "      <td>15</td>\n",
       "      <td>32.11436</td>\n",
       "    </tr>\n",
       "    <tr>\n",
       "      <th>16</th>\n",
       "      <td>20200101</td>\n",
       "      <td>16</td>\n",
       "      <td>35.97992</td>\n",
       "    </tr>\n",
       "    <tr>\n",
       "      <th>17</th>\n",
       "      <td>20200101</td>\n",
       "      <td>17</td>\n",
       "      <td>42.79188</td>\n",
       "    </tr>\n",
       "    <tr>\n",
       "      <th>18</th>\n",
       "      <td>20200101</td>\n",
       "      <td>18</td>\n",
       "      <td>45.63896</td>\n",
       "    </tr>\n",
       "    <tr>\n",
       "      <th>19</th>\n",
       "      <td>20200101</td>\n",
       "      <td>19</td>\n",
       "      <td>48.63322</td>\n",
       "    </tr>\n",
       "    <tr>\n",
       "      <th>20</th>\n",
       "      <td>20200101</td>\n",
       "      <td>20</td>\n",
       "      <td>48.96257</td>\n",
       "    </tr>\n",
       "    <tr>\n",
       "      <th>21</th>\n",
       "      <td>20200101</td>\n",
       "      <td>21</td>\n",
       "      <td>43.30498</td>\n",
       "    </tr>\n",
       "    <tr>\n",
       "      <th>22</th>\n",
       "      <td>20200101</td>\n",
       "      <td>22</td>\n",
       "      <td>40.65924</td>\n",
       "    </tr>\n",
       "    <tr>\n",
       "      <th>23</th>\n",
       "      <td>20200101</td>\n",
       "      <td>23</td>\n",
       "      <td>36.68655</td>\n",
       "    </tr>\n",
       "    <tr>\n",
       "      <th>24</th>\n",
       "      <td>20200102</td>\n",
       "      <td>00</td>\n",
       "      <td>35.40267</td>\n",
       "    </tr>\n",
       "    <tr>\n",
       "      <th>25</th>\n",
       "      <td>20200102</td>\n",
       "      <td>01</td>\n",
       "      <td>31.98128</td>\n",
       "    </tr>\n",
       "    <tr>\n",
       "      <th>26</th>\n",
       "      <td>20200102</td>\n",
       "      <td>02</td>\n",
       "      <td>30.50000</td>\n",
       "    </tr>\n",
       "    <tr>\n",
       "      <th>27</th>\n",
       "      <td>20200102</td>\n",
       "      <td>03</td>\n",
       "      <td>28.78723</td>\n",
       "    </tr>\n",
       "    <tr>\n",
       "      <th>28</th>\n",
       "      <td>20200102</td>\n",
       "      <td>04</td>\n",
       "      <td>28.95000</td>\n",
       "    </tr>\n",
       "    <tr>\n",
       "      <th>29</th>\n",
       "      <td>20200102</td>\n",
       "      <td>05</td>\n",
       "      <td>31.30000</td>\n",
       "    </tr>\n",
       "    <tr>\n",
       "      <th>30</th>\n",
       "      <td>20200102</td>\n",
       "      <td>06</td>\n",
       "      <td>41.00000</td>\n",
       "    </tr>\n",
       "    <tr>\n",
       "      <th>31</th>\n",
       "      <td>20200102</td>\n",
       "      <td>07</td>\n",
       "      <td>48.49424</td>\n",
       "    </tr>\n",
       "    <tr>\n",
       "      <th>32</th>\n",
       "      <td>20200102</td>\n",
       "      <td>08</td>\n",
       "      <td>48.69028</td>\n",
       "    </tr>\n",
       "    <tr>\n",
       "      <th>33</th>\n",
       "      <td>20200102</td>\n",
       "      <td>09</td>\n",
       "      <td>48.63327</td>\n",
       "    </tr>\n",
       "    <tr>\n",
       "      <th>34</th>\n",
       "      <td>20200102</td>\n",
       "      <td>10</td>\n",
       "      <td>45.56537</td>\n",
       "    </tr>\n",
       "    <tr>\n",
       "      <th>35</th>\n",
       "      <td>20200102</td>\n",
       "      <td>11</td>\n",
       "      <td>45.71000</td>\n",
       "    </tr>\n",
       "    <tr>\n",
       "      <th>36</th>\n",
       "      <td>20200102</td>\n",
       "      <td>12</td>\n",
       "      <td>45.15529</td>\n",
       "    </tr>\n",
       "    <tr>\n",
       "      <th>37</th>\n",
       "      <td>20200102</td>\n",
       "      <td>13</td>\n",
       "      <td>44.90115</td>\n",
       "    </tr>\n",
       "    <tr>\n",
       "      <th>38</th>\n",
       "      <td>20200102</td>\n",
       "      <td>14</td>\n",
       "      <td>47.08000</td>\n",
       "    </tr>\n",
       "    <tr>\n",
       "      <th>39</th>\n",
       "      <td>20200102</td>\n",
       "      <td>15</td>\n",
       "      <td>50.08115</td>\n",
       "    </tr>\n",
       "    <tr>\n",
       "      <th>40</th>\n",
       "      <td>20200102</td>\n",
       "      <td>16</td>\n",
       "      <td>58.18632</td>\n",
       "    </tr>\n",
       "    <tr>\n",
       "      <th>41</th>\n",
       "      <td>20200102</td>\n",
       "      <td>17</td>\n",
       "      <td>61.57491</td>\n",
       "    </tr>\n",
       "    <tr>\n",
       "      <th>42</th>\n",
       "      <td>20200102</td>\n",
       "      <td>18</td>\n",
       "      <td>61.88805</td>\n",
       "    </tr>\n",
       "    <tr>\n",
       "      <th>43</th>\n",
       "      <td>20200102</td>\n",
       "      <td>19</td>\n",
       "      <td>61.71904</td>\n",
       "    </tr>\n",
       "    <tr>\n",
       "      <th>44</th>\n",
       "      <td>20200102</td>\n",
       "      <td>20</td>\n",
       "      <td>58.31576</td>\n",
       "    </tr>\n",
       "    <tr>\n",
       "      <th>45</th>\n",
       "      <td>20200102</td>\n",
       "      <td>21</td>\n",
       "      <td>55.32754</td>\n",
       "    </tr>\n",
       "    <tr>\n",
       "      <th>46</th>\n",
       "      <td>20200102</td>\n",
       "      <td>22</td>\n",
       "      <td>46.02472</td>\n",
       "    </tr>\n",
       "    <tr>\n",
       "      <th>47</th>\n",
       "      <td>20200102</td>\n",
       "      <td>23</td>\n",
       "      <td>42.62171</td>\n",
       "    </tr>\n",
       "    <tr>\n",
       "      <th>48</th>\n",
       "      <td>20200103</td>\n",
       "      <td>00</td>\n",
       "      <td>34.85242</td>\n",
       "    </tr>\n",
       "    <tr>\n",
       "      <th>49</th>\n",
       "      <td>20200103</td>\n",
       "      <td>01</td>\n",
       "      <td>33.95274</td>\n",
       "    </tr>\n",
       "  </tbody>\n",
       "</table>\n",
       "</div>"
      ],
      "text/plain": [
       "      Data/Date\\n(YYYYMMDD) Ora\\n/Hour       PUN\n",
       "0                  20200101         00  41.88000\n",
       "1                  20200101         01  38.63858\n",
       "2                  20200101         02  36.55000\n",
       "3                  20200101         03  32.31772\n",
       "4                  20200101         04  30.85000\n",
       "5                  20200101         05  30.13762\n",
       "6                  20200101         06  30.16953\n",
       "7                  20200101         07  30.00000\n",
       "8                  20200101         08  30.65000\n",
       "9                  20200101         09  30.65000\n",
       "10                 20200101         10  30.27327\n",
       "11                 20200101         11  30.34000\n",
       "12                 20200101         12  30.99000\n",
       "13                 20200101         13  30.04245\n",
       "14                 20200101         14  30.75000\n",
       "15                 20200101         15  32.11436\n",
       "16                 20200101         16  35.97992\n",
       "17                 20200101         17  42.79188\n",
       "18                 20200101         18  45.63896\n",
       "19                 20200101         19  48.63322\n",
       "20                 20200101         20  48.96257\n",
       "21                 20200101         21  43.30498\n",
       "22                 20200101         22  40.65924\n",
       "23                 20200101         23  36.68655\n",
       "24                 20200102         00  35.40267\n",
       "25                 20200102         01  31.98128\n",
       "26                 20200102         02  30.50000\n",
       "27                 20200102         03  28.78723\n",
       "28                 20200102         04  28.95000\n",
       "29                 20200102         05  31.30000\n",
       "30                 20200102         06  41.00000\n",
       "31                 20200102         07  48.49424\n",
       "32                 20200102         08  48.69028\n",
       "33                 20200102         09  48.63327\n",
       "34                 20200102         10  45.56537\n",
       "35                 20200102         11  45.71000\n",
       "36                 20200102         12  45.15529\n",
       "37                 20200102         13  44.90115\n",
       "38                 20200102         14  47.08000\n",
       "39                 20200102         15  50.08115\n",
       "40                 20200102         16  58.18632\n",
       "41                 20200102         17  61.57491\n",
       "42                 20200102         18  61.88805\n",
       "43                 20200102         19  61.71904\n",
       "44                 20200102         20  58.31576\n",
       "45                 20200102         21  55.32754\n",
       "46                 20200102         22  46.02472\n",
       "47                 20200102         23  42.62171\n",
       "48                 20200103         00  34.85242\n",
       "49                 20200103         01  33.95274"
      ]
     },
     "execution_count": 13,
     "metadata": {},
     "output_type": "execute_result"
    }
   ],
   "source": [
    "train_df.iloc[:50, :]"
   ]
  },
  {
   "cell_type": "code",
   "execution_count": 14,
   "metadata": {},
   "outputs": [
    {
     "data": {
      "text/plain": [
       "Timestamp('2020-01-01 01:00:00')"
      ]
     },
     "execution_count": 14,
     "metadata": {},
     "output_type": "execute_result"
    }
   ],
   "source": [
    "pd.to_datetime('20200101 01' , format=\"%Y%m%d %H\")"
   ]
  },
  {
   "cell_type": "code",
   "execution_count": 15,
   "metadata": {},
   "outputs": [],
   "source": [
    "# Obiettivo -> riportare in datetime (anno/mese/giorno ora)\n",
    "train_df['Date'] = train_df['   Data/Date\\n(YYYYMMDD)'] + ' ' + train_df['Ora\\n/Hour']\n",
    "\n",
    "train_df['Date'] = pd.to_datetime(train_df['Date'], format=\"%Y%m%d %H\")\n",
    "\n",
    "test_df['Date'] = test_df['   Data/Date\\n(YYYYMMDD)'] + ' ' + test_df['Ora\\n/Hour']\n",
    "test_df['Date'] = pd.to_datetime(test_df['Date'], format=\"%Y%m%d %H\")\n",
    " "
   ]
  },
  {
   "cell_type": "code",
   "execution_count": 16,
   "metadata": {},
   "outputs": [],
   "source": [
    "train_df.drop(columns=['   Data/Date\\n(YYYYMMDD)', 'Ora\\n/Hour'], inplace=True)\n",
    "test_df.drop(columns=['   Data/Date\\n(YYYYMMDD)', 'Ora\\n/Hour'], inplace=True)"
   ]
  },
  {
   "cell_type": "markdown",
   "metadata": {},
   "source": [
    "## Caricamento dati Entso-E"
   ]
  },
  {
   "cell_type": "code",
   "execution_count": 17,
   "metadata": {},
   "outputs": [],
   "source": [
    "# CARICA I DATI DI ENTSO - E PER GENERAZIONE\n",
    "path = \"C:/Users/CTLGNN00C/Documents/ENERGY/Progetto MGP/Dati/\"\n",
    "\n",
    "path_gen_2020 = \"Generation\\ENTSO_E_GEN_2020.xlsx\"\n",
    "path_gen_2021 = \"Generation\\ENTSO_E_GEN_2021.xlsx\"\n",
    "path_gen_2022 = \"Generation\\ENTSO_E_GEN_2022.xlsx\"\n",
    "\n",
    "path_gen_2023 = \"Generation\\ENTSO_E_GEN_2023.xlsx\"\n",
    "path_gen_2024 = \"Generation\\ENTSO_E_GEN_2024.xlsx\""
   ]
  },
  {
   "cell_type": "code",
   "execution_count": 18,
   "metadata": {},
   "outputs": [],
   "source": [
    "gen_2020_df = pd.read_excel(path + path_gen_2020).iloc[:, :2]\n",
    "gen_2021_df = pd.read_excel(path + path_gen_2021).iloc[:, :2]\n",
    "gen_2022_df = pd.read_excel(path + path_gen_2022).iloc[:, :2]\n",
    "\n",
    "gen_2023_df = pd.read_excel(path + path_gen_2023).iloc[:, :2]\n",
    "gen_2024_df = pd.read_excel(path + path_gen_2024).iloc[:, :2] # Fino al 21/09"
   ]
  },
  {
   "cell_type": "code",
   "execution_count": 19,
   "metadata": {},
   "outputs": [],
   "source": [
    "gen_2020_2021_df = pd.concat([gen_2020_df, gen_2021_df])\n",
    "train_gen_df = pd.concat([gen_2020_2021_df, gen_2022_df])\n",
    "\n",
    "test_gen_df = pd.concat([gen_2023_df, gen_2024_df])"
   ]
  },
  {
   "cell_type": "code",
   "execution_count": 20,
   "metadata": {},
   "outputs": [],
   "source": [
    "# Riformattiamo gli indici (per evitare duplicati)\n",
    "train_gen_df.reset_index(drop=True, inplace=True)\n",
    "test_gen_df.reset_index(drop=True, inplace=True)"
   ]
  },
  {
   "cell_type": "code",
   "execution_count": 21,
   "metadata": {},
   "outputs": [],
   "source": [
    "train_gen_df['Date'] = pd.to_datetime(train_gen_df['MTU'], format=\"%d.%m.%Y %H:%M \")\n",
    "test_gen_df['Date'] = pd.to_datetime(test_gen_df['MTU'], format=\"%d.%m.%Y %H:%M \")"
   ]
  },
  {
   "cell_type": "code",
   "execution_count": 22,
   "metadata": {},
   "outputs": [],
   "source": [
    "train_gen_df.drop(columns='MTU', inplace=True)\n",
    "test_gen_df.drop(columns='MTU', inplace=True)"
   ]
  },
  {
   "cell_type": "code",
   "execution_count": 23,
   "metadata": {},
   "outputs": [
    {
     "data": {
      "text/plain": [
       "(0, 0)"
      ]
     },
     "execution_count": 23,
     "metadata": {},
     "output_type": "execute_result"
    }
   ],
   "source": [
    "train_gen_df.duplicated(\"Date\").sum(), test_gen_df.duplicated(\"Date\").sum() # Ci sono tre valori duplicati nel train e due nel test\n",
    "train_gen_df.drop_duplicates('Date', inplace=True), test_gen_df.drop_duplicates(\"Date\", inplace=True)\n",
    "train_gen_df.duplicated(\"Date\").sum(), test_gen_df.duplicated(\"Date\").sum() "
   ]
  },
  {
   "cell_type": "code",
   "execution_count": 24,
   "metadata": {},
   "outputs": [],
   "source": [
    "# CARICA I DATI DI ENTSO - E PER IL CARICO\n",
    "path = \"C:/Users/CTLGNN00C/Documents/ENERGY/Progetto MGP/Dati/\"\n",
    "\n",
    "path_load_2020 = \"Load\\ENTSO_E_LOAD_2020.xlsx\"\n",
    "path_load_2021 = \"Load\\ENTSO_E_LOAD_2021.xlsx\"\n",
    "path_load_2022 = \"Load\\ENTSO_E_LOAD_2022.xlsx\"\n",
    "\n",
    "path_load_2023 = \"Load\\ENTSO_E_LOAD_2023.xlsx\"\n",
    "path_load_2024 = \"Load\\ENTSO_E_LOAD_2024.xlsx\""
   ]
  },
  {
   "cell_type": "code",
   "execution_count": 25,
   "metadata": {},
   "outputs": [],
   "source": [
    "load_2020_df = pd.read_excel(path + path_load_2020).iloc[:, :2]\n",
    "load_2021_df = pd.read_excel(path + path_load_2021).iloc[:, :2]\n",
    "load_2022_df = pd.read_excel(path + path_load_2022).iloc[:, :2]\n",
    "\n",
    "\n",
    "load_2023_df = pd.read_excel(path + path_load_2023).iloc[:, :2]\n",
    "load_2024_df = pd.read_excel(path + path_load_2024).iloc[:, :2] # Fino al 21/09"
   ]
  },
  {
   "cell_type": "code",
   "execution_count": 26,
   "metadata": {},
   "outputs": [],
   "source": [
    "load_2020_2021_df = pd.concat([load_2020_df, load_2021_df])\n",
    "train_load_df = pd.concat([load_2020_2021_df, load_2022_df])\n",
    "\n",
    "test_load_df = pd.concat([load_2023_df, load_2024_df])"
   ]
  },
  {
   "cell_type": "code",
   "execution_count": 27,
   "metadata": {},
   "outputs": [],
   "source": [
    "# Riformattiamo gli indici (per evitare duplicati)\n",
    "train_load_df.reset_index(drop=True, inplace=True)\n",
    "test_load_df.reset_index(drop=True, inplace=True)"
   ]
  },
  {
   "cell_type": "code",
   "execution_count": 28,
   "metadata": {},
   "outputs": [],
   "source": [
    "train_load_df['Date'] = pd.to_datetime(train_load_df['Time (CET/CEST)'], format=\"%d.%m.%Y %H:%M \")\n",
    "test_load_df['Date'] = pd.to_datetime(test_load_df['Time (CET/CEST)'], format=\"%d.%m.%Y %H:%M \")"
   ]
  },
  {
   "cell_type": "code",
   "execution_count": 29,
   "metadata": {},
   "outputs": [],
   "source": [
    "train_load_df.drop(columns='Time (CET/CEST)', inplace=True)\n",
    "test_load_df.drop(columns='Time (CET/CEST)', inplace=True)"
   ]
  },
  {
   "cell_type": "code",
   "execution_count": 30,
   "metadata": {},
   "outputs": [
    {
     "data": {
      "text/plain": [
       "(0, 0)"
      ]
     },
     "execution_count": 30,
     "metadata": {},
     "output_type": "execute_result"
    }
   ],
   "source": [
    "train_load_df.duplicated(\"Date\").sum(), test_load_df.duplicated(\"Date\").sum() # Ci sono tre valori duplicati nel train e due nel test\n",
    "train_load_df.drop_duplicates('Date', inplace=True), test_load_df.drop_duplicates(\"Date\", inplace=True)\n",
    "train_load_df.duplicated(\"Date\").sum(), test_load_df.duplicated(\"Date\").sum() "
   ]
  },
  {
   "cell_type": "markdown",
   "metadata": {},
   "source": [
    "## CREAZIONE DATASET COMPLETO"
   ]
  },
  {
   "cell_type": "code",
   "execution_count": 31,
   "metadata": {},
   "outputs": [],
   "source": [
    "train_prices_df = deepcopy(train_df)\n",
    "test_prices_df = deepcopy(test_df)"
   ]
  },
  {
   "cell_type": "code",
   "execution_count": 32,
   "metadata": {},
   "outputs": [],
   "source": [
    "########## PROBLEMA TRAIN_SET\n",
    "# PROBLEMA: il 2022-03-27 ha soltanto 22 valori e non 23 (vedi file Excel) / anche il 2021-03-28 -> serve un imputazione\n",
    "filtered_df = train_prices_df[train_prices_df['Date'].dt.date == pd.to_datetime('2022-03-27').date()]\n",
    "filtered_df\n",
    "\n",
    "# Assegno il prezzo di una settimana prima\n",
    "new_prices_list = []\n",
    "\n",
    "new_price_1 = train_prices_df['PUN'][train_prices_df['Date'] == '2022-03-20 23:00'].values[0]\n",
    "new_price_2 = train_prices_df['PUN'][train_prices_df['Date'] == '2021-03-21 23:00'].values[0]\n",
    "new_price_3 = train_prices_df['PUN'][train_prices_df['Date'] == '2020-03-22 23:00'].values[0]\n",
    "\n",
    "new_prices_list.append(new_price_1)\n",
    "new_prices_list.append(new_price_2)\n",
    "new_prices_list.append(new_price_3)\n",
    "\n",
    "dates_list = [pd.to_datetime('2022-03-27 23:00'), pd.to_datetime('2021-03-28 23:00'), pd.to_datetime('2020-03-29 23:00:00')]\n",
    "\n",
    "\n",
    "new_row = pd.DataFrame({\n",
    "    'Date': dates_list,\n",
    "    'PUN': new_prices_list,\n",
    "})\n",
    "\n",
    "train_prices_df = pd.concat([train_prices_df, new_row]).sort_index()"
   ]
  },
  {
   "cell_type": "code",
   "execution_count": 33,
   "metadata": {},
   "outputs": [],
   "source": [
    "########## PROBLEMA TEST_SET\n",
    "# PROBLEMA: il 2024-03-31 ha soltanto 22 valori (vedi file Excel) -> serve un imputazione\n",
    "filtered_df = test_prices_df[test_prices_df['Date'].dt.date == pd.to_datetime('2024-03-31').date()]\n",
    "filtered_df\n",
    "\n",
    "# Assegno il prezzo di una settimana prima\n",
    "new_prices_list = []\n",
    "\n",
    "new_price_1 = test_prices_df['PUN'][test_prices_df['Date'] == '2024-03-24 23:00'].values[0]\n",
    "new_price_2 = test_prices_df['PUN'][test_prices_df['Date'] == '2023-03-19 23:00'].values[0]\n",
    "\n",
    "new_prices_list.append(new_price_1)\n",
    "new_prices_list.append(new_price_2)\n",
    "\n",
    "dates_list = [pd.to_datetime('2024-03-31 23:00'), pd.to_datetime('2023-03-26 23:00')]\n",
    "\n",
    "\n",
    "new_row = pd.DataFrame({\n",
    "    'Date': dates_list,\n",
    "    'PUN': new_prices_list,\n",
    "})\n",
    "\n",
    "test_prices_df = pd.concat([test_prices_df, new_row]).sort_index()"
   ]
  },
  {
   "cell_type": "code",
   "execution_count": 34,
   "metadata": {},
   "outputs": [],
   "source": [
    "combined_train_df = pd.merge(left=train_prices_df, right=train_gen_df, on='Date', how='inner')\n",
    "train_df = pd.merge(left=combined_train_df, right=train_load_df, on='Date', how='inner')\n",
    "\n",
    "combined_test_df = pd.merge(left=test_prices_df, right=test_gen_df, on='Date', how='inner')\n",
    "test_df = pd.merge(left=combined_test_df, right=test_load_df, on='Date', how='inner')"
   ]
  },
  {
   "cell_type": "code",
   "execution_count": 35,
   "metadata": {},
   "outputs": [],
   "source": [
    "train_df.rename(columns={'PUN':'Price', 'Scheduled Generation [MW] (D) - Italy (IT)': 'Exogenous 1', 'Day-ahead Total Load Forecast [MW] - Italy (IT)': 'Exogenous 2'}, inplace=True)\n",
    "test_df.rename(columns={'PUN':'Price', 'Scheduled Generation [MW] (D) - Italy (IT)': 'Exogenous 1', 'Day-ahead Total Load Forecast [MW] - Italy (IT)': 'Exogenous 2'}, inplace=True)"
   ]
  },
  {
   "cell_type": "code",
   "execution_count": 36,
   "metadata": {},
   "outputs": [],
   "source": [
    "## Imputazione prima feature esogena TRAIN (sostituiamo i valori della scorsa settimana)\n",
    "\n",
    "nan_dates_ex1 = train_df['Date'][train_df['Exogenous 1'].isna()]\n",
    "nan_imp_ex1 = nan_dates_ex1 - pd.Timedelta(weeks=1)\n",
    "imp_ex1 = list(train_df['Exogenous 1'].loc[(train_df['Date'].isin(nan_imp_ex1))])\n",
    "\n",
    "for i, date_imp in enumerate(nan_dates_ex1):\n",
    "    train_df.loc[(train_df['Date'] == date_imp), 'Exogenous 1'] = imp_ex1[i]\n",
    "\n",
    "## Imputazione seconda feature esogena TRAIN (sostituiamo i valori della scorsa settimana)\n",
    "\n",
    "nan_dates_ex2 = train_df['Date'][train_df['Exogenous 2'].isna()]\n",
    "nan_imp_ex2 = nan_dates_ex2 - pd.Timedelta(weeks=1)\n",
    "imp_ex2 = list(train_df['Exogenous 2'].loc[(train_df['Date'].isin(nan_imp_ex2))])\n",
    "\n",
    "for i, date_imp in enumerate(nan_dates_ex2):\n",
    "    train_df.loc[(train_df['Date'] == date_imp), 'Exogenous 2'] = imp_ex2[i]\n",
    "\n",
    "\n",
    "## Imputazione prima feature esogena TEST (sostituiamo i valori della scorsa settimana)\n",
    "\n",
    "nan_dates_ex1 = test_df['Date'][test_df['Exogenous 1'].isna()]\n",
    "nan_imp_ex1 = nan_dates_ex1 - pd.Timedelta(weeks=1)\n",
    "imp_ex1 = list(test_df['Exogenous 1'].loc[(test_df['Date'].isin(nan_imp_ex1))])\n",
    "\n",
    "for i, date_imp in enumerate(nan_dates_ex1):\n",
    "    test_df.loc[(test_df['Date'] == date_imp), 'Exogenous 1'] = imp_ex1[i]\n",
    "\n",
    "## Imputazione seconda feature esogena TEST (sostituiamo i valori della scorsa settimana)\n",
    "\n",
    "nan_dates_ex2 = test_df['Date'][test_df['Exogenous 2'].isna()]\n",
    "nan_imp_ex2 = nan_dates_ex2 - pd.Timedelta(weeks=1)\n",
    "imp_ex2 = list(test_df['Exogenous 2'].loc[(test_df['Date'].isin(nan_imp_ex2))])\n",
    "\n",
    "for i, date_imp in enumerate(nan_dates_ex2):\n",
    "    test_df.loc[(test_df['Date'] == date_imp), 'Exogenous 2'] = imp_ex2[i]"
   ]
  },
  {
   "cell_type": "code",
   "execution_count": 37,
   "metadata": {},
   "outputs": [],
   "source": [
    "train_df = train_df.set_index('Date').sort_index()\n",
    "test_df = test_df.set_index('Date').sort_index()\n"
   ]
  },
  {
   "cell_type": "markdown",
   "metadata": {},
   "source": [
    "## Pre - processing"
   ]
  },
  {
   "cell_type": "code",
   "execution_count": 38,
   "metadata": {},
   "outputs": [],
   "source": [
    "# Check indice iniziale\n",
    "if train_df.index[0].hour != 0 or test_df.index[0].hour != 0:\n",
    "    print('Problem with the index')"
   ]
  },
  {
   "cell_type": "code",
   "execution_count": 39,
   "metadata": {},
   "outputs": [],
   "source": [
    "# Numero di variabili esogene (tutte tranne il prezzo)\n",
    "n_exogenous_inputs = len(train_df.columns) - 1"
   ]
  },
  {
   "cell_type": "code",
   "execution_count": 40,
   "metadata": {},
   "outputs": [],
   "source": [
    "# Features: 96 prices + n_exogenous * (24 * 3 exogeneous) + 7 weekday dummies\n",
    "# Price lags: D-1, D-2, D-3, D-7\n",
    "# Exogeneous inputs lags: D, D-1, D-7\n",
    "\n",
    "n_features = 96 + 7 + n_exogenous_inputs * 72"
   ]
  },
  {
   "cell_type": "code",
   "execution_count": 41,
   "metadata": {},
   "outputs": [],
   "source": [
    "# Dato che compare il lag D-7 dobbiamo scartare almeno la prima settimana\n",
    "\n",
    "indexTrain = train_df.loc[train_df.index[0] + pd.Timedelta(weeks=1):].index"
   ]
  },
  {
   "cell_type": "code",
   "execution_count": 42,
   "metadata": {},
   "outputs": [
    {
     "data": {
      "text/plain": [
       "DatetimeIndex(['2020-01-08 00:00:00', '2020-01-08 01:00:00',\n",
       "               '2020-01-08 02:00:00', '2020-01-08 03:00:00',\n",
       "               '2020-01-08 04:00:00', '2020-01-08 05:00:00',\n",
       "               '2020-01-08 06:00:00', '2020-01-08 07:00:00',\n",
       "               '2020-01-08 08:00:00', '2020-01-08 09:00:00',\n",
       "               ...\n",
       "               '2022-12-31 14:00:00', '2022-12-31 15:00:00',\n",
       "               '2022-12-31 16:00:00', '2022-12-31 17:00:00',\n",
       "               '2022-12-31 18:00:00', '2022-12-31 19:00:00',\n",
       "               '2022-12-31 20:00:00', '2022-12-31 21:00:00',\n",
       "               '2022-12-31 22:00:00', '2022-12-31 23:00:00'],\n",
       "              dtype='datetime64[ns]', name='Date', length=26136, freq=None)"
      ]
     },
     "execution_count": 42,
     "metadata": {},
     "output_type": "execute_result"
    }
   ],
   "source": [
    "indexTrain"
   ]
  },
  {
   "cell_type": "code",
   "execution_count": 43,
   "metadata": {},
   "outputs": [],
   "source": [
    "# Se impostato su None prende tutti i valori possibili per la previsione, in caso contrario solo i valori da predire per un giorno specifico\n",
    "date_test = None\n",
    "\n",
    "if date_test is None:\n",
    "    indexTest = test_df.loc[test_df.index[0] + pd.Timedelta(weeks=1):].index\n",
    "else:\n",
    "    indexTest = test_df.loc[date_test:date_test + pd.Timedelta(hours=23)].index"
   ]
  },
  {
   "cell_type": "code",
   "execution_count": 44,
   "metadata": {},
   "outputs": [],
   "source": [
    "# Seleziono un timestamp ogni 24 -> un valore giornaliero\n",
    "predDatesTrain = indexTrain.round('1h')[::24]\n",
    "predDatesTest = indexTest.round('1h')[::24]"
   ]
  },
  {
   "cell_type": "code",
   "execution_count": 45,
   "metadata": {},
   "outputs": [],
   "source": [
    "# Creiamo due datasets con tante colonne quante ore del giorno\n",
    "\n",
    "indexTrain = pd.DataFrame(index=predDatesTrain, columns=['h' + str(hour) for hour in range(24)])\n",
    "indexTest = pd.DataFrame(index=predDatesTest, columns=['h' + str(hour) for hour in range(24)])\n",
    "for hour in range(24):\n",
    "    indexTrain.loc[:, 'h' + str(hour)] = indexTrain.index + pd.Timedelta(hours=hour)\n",
    "    indexTest.loc[:, 'h' + str(hour)] = indexTest.index + pd.Timedelta(hours=hour)"
   ]
  },
  {
   "cell_type": "code",
   "execution_count": 46,
   "metadata": {},
   "outputs": [],
   "source": [
    "# Preallocamento della memoria\n",
    "X_train = np.zeros([indexTrain.shape[0], n_features])\n",
    "X_test = np.zeros([indexTest.shape[0], n_features])\n",
    "Y_train = np.zeros([indexTrain.shape[0], 24])"
   ]
  },
  {
   "cell_type": "code",
   "execution_count": 47,
   "metadata": {},
   "outputs": [],
   "source": [
    "feature_index = 0"
   ]
  },
  {
   "cell_type": "code",
   "execution_count": 48,
   "metadata": {},
   "outputs": [],
   "source": [
    "# Aggiungere i prezzi storici nei giorni D-1, D-2, D-3 e D-7\n",
    "\n",
    "\n",
    "for hour in range(24):\n",
    "    # Lag\n",
    "    for past_day in [1, 2, 3, 7]:\n",
    "\n",
    "        # definiamo gli indici temporali utilizzando dataframes di appoggio\n",
    "        pastIndexTrain = pd.to_datetime(indexTrain.loc[:, 'h' + str(hour)]) - pd.Timedelta(hours=24 * past_day)\n",
    "        pastIndexTest = pd.to_datetime(indexTest.loc[:, 'h' + str(hour)].values) - pd.Timedelta(hours=24 * past_day)\n",
    "\n",
    "        # Prezzi storici nei giorni passati all'ora h\n",
    "        X_train[:, feature_index] = train_df.loc[pastIndexTrain, 'Price']\n",
    "        X_test[:, feature_index] = test_df.loc[pastIndexTest, 'Price']\n",
    "        feature_index += 1"
   ]
  },
  {
   "cell_type": "code",
   "execution_count": 49,
   "metadata": {},
   "outputs": [],
   "source": [
    "# Variabili esogene nei giorni D, D-1,  D-7\n",
    "\n",
    "for hour in range(24):\n",
    "    for past_day in [1, 7]:\n",
    "        \n",
    "        for exog in range(1, n_exogenous_inputs + 1):\n",
    "\n",
    "            # Definying the corresponding past time indexs using the auxiliary dataframses \n",
    "            pastIndexTrain = pd.to_datetime(indexTrain.loc[:, 'h' + str(hour)].values) - \\\n",
    "                pd.Timedelta(hours=24 * past_day)\n",
    "            pastIndexTest = pd.to_datetime(indexTest.loc[:, 'h' + str(hour)].values) - \\\n",
    "                pd.Timedelta(hours=24 * past_day)\n",
    "\n",
    "            # Including the exogenous input at day D-past_day and hour \"h\" \n",
    "            X_train[:, feature_index] = train_df.loc[pastIndexTrain, 'Exogenous ' + str(exog)]                    \n",
    "            X_test[:, feature_index] = test_df.loc[pastIndexTest, 'Exogenous ' + str(exog)]\n",
    "            feature_index += 1\n",
    "\n",
    "    # For each of the exogenous inputs we include feature if feature selection indicates it\n",
    "    for exog in range(1, n_exogenous_inputs + 1):\n",
    "        \n",
    "        # Definying the corresponding future time indexs using the auxiliary dataframses \n",
    "        futureIndexTrain = pd.to_datetime(indexTrain.loc[:, 'h' + str(hour)].values)\n",
    "        futureIndexTest = pd.to_datetime(indexTest.loc[:, 'h' + str(hour)].values)\n",
    "\n",
    "        # Including the exogenous input at day D and hour \"h\" \n",
    "        X_train[:, feature_index] = train_df.loc[futureIndexTrain, 'Exogenous ' + str(exog)]        \n",
    "        X_test[:, feature_index] = test_df.loc[futureIndexTest, 'Exogenous ' + str(exog)] \n",
    "        feature_index += 1"
   ]
  },
  {
   "cell_type": "code",
   "execution_count": null,
   "metadata": {},
   "outputs": [],
   "source": []
  },
  {
   "cell_type": "code",
   "execution_count": 50,
   "metadata": {},
   "outputs": [],
   "source": [
    "# Aggiungiamo le variabily dummy\n",
    "\n",
    "for dayofweek in range(7):\n",
    "    X_train[indexTrain.index.dayofweek == dayofweek, feature_index] = 1\n",
    "    X_test[indexTest.index.dayofweek == dayofweek, feature_index] = 1\n",
    "    feature_index += 1\n",
    "\n",
    "    # Estrazione dei valori predetti di y\n",
    "    for hour in range(24):\n",
    "        # Definizione degli indici di tempo all'ora h\n",
    "        futureIndexTrain = pd.to_datetime(indexTrain.loc[:, 'h' + str(hour)].values)\n",
    "        futureIndexTest = pd.to_datetime(indexTest.loc[:, 'h' + str(hour)].values)\n",
    "\n",
    "        # Estrazione dei valori di Y basandoci sugli indici di tempo\n",
    "        Y_train[:, hour] = train_df.loc[futureIndexTrain, 'Price']"
   ]
  },
  {
   "cell_type": "code",
   "execution_count": 51,
   "metadata": {},
   "outputs": [],
   "source": [
    "# from sklearn.impute import SimpleImputer\n",
    "\n",
    "# imputer = SimpleImputer()\n",
    "# imputer.fit(X_train)\n",
    "\n",
    "# X_train = imputer.transform(X_train)\n",
    "# X_test = imputer.transform(X_test)"
   ]
  },
  {
   "cell_type": "markdown",
   "metadata": {},
   "source": [
    "## Model definition / Training / Prediction"
   ]
  },
  {
   "cell_type": "code",
   "execution_count": 52,
   "metadata": {},
   "outputs": [],
   "source": [
    "model = LEAR()\n",
    "\n",
    "model.recalibrate(X_train, Y_train)"
   ]
  },
  {
   "cell_type": "code",
   "execution_count": 53,
   "metadata": {},
   "outputs": [],
   "source": [
    "Y_test_pred = model.predict_days(X_test)"
   ]
  },
  {
   "cell_type": "markdown",
   "metadata": {},
   "source": [
    "### Test/pred comparison"
   ]
  },
  {
   "cell_type": "code",
   "execution_count": 54,
   "metadata": {},
   "outputs": [
    {
     "data": {
      "text/plain": [
       "array([[170.23380912, 166.3669941 , 157.45261639, ..., 183.76036615,\n",
       "        167.68194639, 155.22855384],\n",
       "       [143.92141532, 135.72793103, 129.416706  , ..., 165.57791175,\n",
       "        152.50257981, 147.92520473],\n",
       "       [123.17920024,  96.17240171,  82.10009207, ..., 157.75268295,\n",
       "        150.67867321, 140.95838516],\n",
       "       ...,\n",
       "       [133.16349788, 122.73322204, 119.23084687, ..., 172.92208503,\n",
       "        149.24786729, 143.52689055],\n",
       "       [124.19673266, 116.99084239, 111.58583336, ..., 159.02916853,\n",
       "        135.78999097, 131.78199209],\n",
       "       [125.18222806, 115.1956189 , 108.92229068, ..., 145.11597222,\n",
       "        124.20666438, 119.8032055 ]])"
      ]
     },
     "execution_count": 54,
     "metadata": {},
     "output_type": "execute_result"
    }
   ],
   "source": [
    "Y_test_pred"
   ]
  },
  {
   "cell_type": "code",
   "execution_count": 55,
   "metadata": {},
   "outputs": [],
   "source": [
    "excluded_days = test_df['Price'].shape[0] - (Y_test_pred.shape[0] * Y_test_pred.shape[1]) # 168 = 24 * 7 -> giorni esclusi\n"
   ]
  },
  {
   "cell_type": "code",
   "execution_count": 56,
   "metadata": {},
   "outputs": [],
   "source": [
    "test_prices_list  = []\n",
    "\n",
    "true_prices = test_df['Price'].iloc[excluded_days:]"
   ]
  },
  {
   "cell_type": "code",
   "execution_count": 57,
   "metadata": {},
   "outputs": [],
   "source": [
    "for i in range(0, len(true_prices),24):\n",
    "    test_prices_list.append(np.array(true_prices[i:24+i]))"
   ]
  },
  {
   "cell_type": "code",
   "execution_count": 58,
   "metadata": {},
   "outputs": [],
   "source": [
    "Y_test = np.vstack(test_prices_list)"
   ]
  },
  {
   "cell_type": "code",
   "execution_count": 59,
   "metadata": {},
   "outputs": [],
   "source": [
    "start_test_date = test_df.index[excluded_days] \n",
    "end_test_date = start_test_date + pd.Timedelta(days=X_test.shape[0]-1)\n",
    "prediction_dates = pd.date_range(start=start_test_date, end=end_test_date, freq=\"D\")"
   ]
  },
  {
   "cell_type": "code",
   "execution_count": 60,
   "metadata": {},
   "outputs": [
    {
     "ename": "NameError",
     "evalue": "name 'time_index' is not defined",
     "output_type": "error",
     "traceback": [
      "\u001b[1;31m---------------------------------------------------------------------------\u001b[0m",
      "\u001b[1;31mNameError\u001b[0m                                 Traceback (most recent call last)",
      "Cell \u001b[1;32mIn[60], line 5\u001b[0m\n\u001b[0;32m      1\u001b[0m \u001b[38;5;28;01mfor\u001b[39;00m i \u001b[38;5;129;01min\u001b[39;00m \u001b[38;5;28mrange\u001b[39m(\u001b[38;5;241m0\u001b[39m, \u001b[38;5;241m10\u001b[39m):\n\u001b[0;32m      3\u001b[0m     plt\u001b[38;5;241m.\u001b[39mfigure(figsize\u001b[38;5;241m=\u001b[39m(\u001b[38;5;241m12\u001b[39m, \u001b[38;5;241m6\u001b[39m))\n\u001b[1;32m----> 5\u001b[0m     plt\u001b[38;5;241m.\u001b[39mplot(\u001b[43mtime_index\u001b[49m, Y_test[i, :], label\u001b[38;5;241m=\u001b[39m\u001b[38;5;124m'\u001b[39m\u001b[38;5;124mDati predetti\u001b[39m\u001b[38;5;124m'\u001b[39m, color\u001b[38;5;241m=\u001b[39m\u001b[38;5;124m'\u001b[39m\u001b[38;5;124mred\u001b[39m\u001b[38;5;124m'\u001b[39m, linestyle\u001b[38;5;241m=\u001b[39m\u001b[38;5;124m'\u001b[39m\u001b[38;5;124m--\u001b[39m\u001b[38;5;124m'\u001b[39m, marker\u001b[38;5;241m=\u001b[39m\u001b[38;5;124m'\u001b[39m\u001b[38;5;124mo\u001b[39m\u001b[38;5;124m'\u001b[39m)\n\u001b[0;32m      6\u001b[0m     plt\u001b[38;5;241m.\u001b[39mplot(time_index, Y_test_pred[i, :], label\u001b[38;5;241m=\u001b[39m\u001b[38;5;124m'\u001b[39m\u001b[38;5;124mDati reali\u001b[39m\u001b[38;5;124m'\u001b[39m, color\u001b[38;5;241m=\u001b[39m\u001b[38;5;124m'\u001b[39m\u001b[38;5;124mblue\u001b[39m\u001b[38;5;124m'\u001b[39m, linestyle\u001b[38;5;241m=\u001b[39m\u001b[38;5;124m'\u001b[39m\u001b[38;5;124m-\u001b[39m\u001b[38;5;124m'\u001b[39m, marker\u001b[38;5;241m=\u001b[39m\u001b[38;5;124m'\u001b[39m\u001b[38;5;124mo\u001b[39m\u001b[38;5;124m'\u001b[39m)\n\u001b[0;32m      8\u001b[0m     plt\u001b[38;5;241m.\u001b[39mxlabel(\u001b[38;5;124m'\u001b[39m\u001b[38;5;124mTempo\u001b[39m\u001b[38;5;124m'\u001b[39m)\n",
      "\u001b[1;31mNameError\u001b[0m: name 'time_index' is not defined"
     ]
    },
    {
     "data": {
      "text/plain": [
       "<Figure size 1200x600 with 0 Axes>"
      ]
     },
     "metadata": {},
     "output_type": "display_data"
    }
   ],
   "source": [
    "for i in range(0, 10):\n",
    "\n",
    "    plt.figure(figsize=(12, 6))\n",
    "\n",
    "    plt.plot(time_index, Y_test[i, :], label='Dati predetti', color='red', linestyle='--', marker='o')\n",
    "    plt.plot(time_index, Y_test_pred[i, :], label='Dati reali', color='blue', linestyle='-', marker='o')\n",
    "\n",
    "    plt.xlabel('Tempo')\n",
    "    plt.ylabel('Prezzo')\n",
    "    plt.legend()\n",
    "    plt.title(list(indexTest.index)[i])\n",
    "    plt.grid(True)\n",
    "    plt.show()"
   ]
  },
  {
   "cell_type": "code",
   "execution_count": 2071,
   "metadata": {},
   "outputs": [
    {
     "data": {
      "image/png": "[encoded data removed]",
      "text/plain": [
       "<Figure size 1200x600 with 1 Axes>"
      ]
     },
     "metadata": {},
     "output_type": "display_data"
    }
   ],
   "source": [
    "# PLOT DATI DI TRAIN\n",
    "time_index = np.arange(24*4)\n",
    "\n",
    "for i in range(0, 1):\n",
    "\n",
    "    plt.figure(figsize=(12, 6))\n",
    "\n",
    "    plt.plot(time_index, train_df['Price'].iloc[i:i+24*4], label='Dati reali', color='blue', linestyle='-', marker='o')\n",
    "\n",
    "    plt.xlabel('Tempo')\n",
    "    plt.ylabel('Prezzo')\n",
    "    plt.legend()\n",
    "    plt.title(list(indexTest.index)[i])\n",
    "    plt.grid(True)\n",
    "    plt.show()"
   ]
  },
  {
   "cell_type": "code",
   "execution_count": 1929,
   "metadata": {},
   "outputs": [
    {
     "data": {
      "text/plain": [
       "(602, 24)"
      ]
     },
     "execution_count": 1929,
     "metadata": {},
     "output_type": "execute_result"
    }
   ],
   "source": [
    "Y_test.shape\n",
    "Y_test_pred.shape\n",
    "indexTest.shape"
   ]
  },
  {
   "cell_type": "markdown",
   "metadata": {},
   "source": [
    "## Metrics computation"
   ]
  },
  {
   "cell_type": "code",
   "execution_count": 1930,
   "metadata": {},
   "outputs": [],
   "source": [
    "MAE_LEAR = MAE(np.hstack(Y_test), np.hstack(Y_test_pred))\n",
    "sMAPE_LEAR = sMAPE(np.hstack(Y_test), np.hstack(Y_test_pred))\n",
    "MAPE_LEAR = mean_absolute_percentage_error(np.hstack(Y_test), np.hstack(Y_test_pred))"
   ]
  },
  {
   "cell_type": "code",
   "execution_count": 1931,
   "metadata": {},
   "outputs": [
    {
     "data": {
      "text/plain": [
       "(11.118741044980622, 0.10834606590036874, 0.17593744696143232)"
      ]
     },
     "execution_count": 1931,
     "metadata": {},
     "output_type": "execute_result"
    }
   ],
   "source": [
    "MAE_LEAR, sMAPE_LEAR, MAPE_LEAR"
   ]
  },
  {
   "cell_type": "markdown",
   "metadata": {},
   "source": [
    "# DNN"
   ]
  },
  {
   "cell_type": "code",
   "execution_count": 1973,
   "metadata": {},
   "outputs": [],
   "source": [
    "path_dataset = \"C:/Users/CTLGNN00C/Documents/ENERGY/Progetto MGP\"\n",
    "test_start_date = pd.to_datetime('2023-01-01 00:00:00')\n",
    "test_end_date = pd.to_datetime('2024-08-31 23:00:00')"
   ]
  },
  {
   "cell_type": "code",
   "execution_count": 1975,
   "metadata": {},
   "outputs": [],
   "source": [
    "# Number of layers in DNN\n",
    "nlayers = 2\n",
    "\n",
    "# Market under study. If it not one of the standard ones, the file name\n",
    "# has to be provided, where the file has to be a csv file\n",
    "dataset = 'IT'\n",
    "\n",
    "# Number of years (a year is 364 days) in the test dataset.\n",
    "years_test = len(test_df)/364\n",
    "\n",
    "# Optional parameters for selecting the test dataset, if either of them is not provided, \n",
    "# the test dataset is built using the years_test parameter. They should either be one of\n",
    "# the date formats existing in python or a string with the following format\n",
    "# \"%d/%m/%Y %H:%M\"\n",
    "begin_test_date = test_start_date\n",
    "end_test_date = test_end_date\n",
    "\n",
    "# Boolean that selects whether the validation and training datasets are shuffled\n",
    "shuffle_train = 1\n",
    "\n",
    "# Boolean that selects whether a data augmentation technique for DNNs is used\n",
    "data_augmentation = 0\n",
    "\n",
    "# Boolean that selects whether we start a new hyperparameter optimization or we restart an existing one\n",
    "new_hyperopt = 1\n",
    "\n",
    "# Number of years used in the training dataset for recalibration\n",
    "calibration_window = len(train_df)/364\n",
    "\n",
    "# Unique identifier to read the trials file of hyperparameter optimization\n",
    "experiment_id = 1\n",
    "\n",
    "# Number of iterations for hyperparameter optimization\n",
    "max_evals = 10\n",
    "\n",
    "path_datasets_folder = path_dataset\n",
    "path_hyperparameters_folder = path +  \"/experimental_files/\""
   ]
  },
  {
   "cell_type": "markdown",
   "metadata": {},
   "source": [
    "## DON'T RUN AGAIN"
   ]
  },
  {
   "cell_type": "code",
   "execution_count": 1976,
   "metadata": {},
   "outputs": [
    {
     "name": "stdout",
     "output_type": "stream",
     "text": [
      "Test datasets: 2023-01-01 00:00:00 - 2024-08-31 23:00:00\n"
     ]
    },
    {
     "name": "stderr",
     "output_type": "stream",
     "text": [
      "WARNING:absl:`lr` is deprecated in Keras optimizer, please use `learning_rate` or use the legacy optimizer, e.g.,tf.keras.optimizers.legacy.Adam.\n"
     ]
    },
    {
     "name": "stdout",
     "output_type": "stream",
     "text": [
      "\n",
      "\n",
      "Tested 1/10 iterations.\n",
      "Best MAE - Validation Dataset\n",
      "  MAE: 28.2 | sMAPE: 25.66 %\n",
      "\n",
      "Best MAE - Test Dataset\n",
      "  MAE: 36.4 | sMAPE: 37.78 %\n"
     ]
    },
    {
     "name": "stderr",
     "output_type": "stream",
     "text": [
      "WARNING:absl:`lr` is deprecated in Keras optimizer, please use `learning_rate` or use the legacy optimizer, e.g.,tf.keras.optimizers.legacy.Adam.\n"
     ]
    },
    {
     "name": "stdout",
     "output_type": "stream",
     "text": [
      "\n",
      "\n",
      "Tested 2/10 iterations.\n",
      "Best MAE - Validation Dataset\n",
      "  MAE: 28.2 | sMAPE: 25.66 %\n",
      "\n",
      "Best MAE - Test Dataset\n",
      "  MAE: 36.4 | sMAPE: 37.78 %\n"
     ]
    },
    {
     "name": "stderr",
     "output_type": "stream",
     "text": [
      "WARNING:absl:`lr` is deprecated in Keras optimizer, please use `learning_rate` or use the legacy optimizer, e.g.,tf.keras.optimizers.legacy.Adam.\n"
     ]
    },
    {
     "name": "stdout",
     "output_type": "stream",
     "text": [
      "\n",
      "\n",
      "Tested 3/10 iterations.\n",
      "Best MAE - Validation Dataset\n",
      "  MAE: 28.2 | sMAPE: 25.66 %\n",
      "\n",
      "Best MAE - Test Dataset\n",
      "  MAE: 36.4 | sMAPE: 37.78 %\n"
     ]
    },
    {
     "name": "stderr",
     "output_type": "stream",
     "text": [
      "WARNING:absl:`lr` is deprecated in Keras optimizer, please use `learning_rate` or use the legacy optimizer, e.g.,tf.keras.optimizers.legacy.Adam.\n"
     ]
    },
    {
     "name": "stdout",
     "output_type": "stream",
     "text": [
      "\n",
      "\n",
      "Tested 4/10 iterations.\n",
      "Best MAE - Validation Dataset\n",
      "  MAE: 17.6 | sMAPE: 13.17 %\n",
      "\n",
      "Best MAE - Test Dataset\n",
      "  MAE: 15.7 | sMAPE: 14.10 %\n"
     ]
    },
    {
     "name": "stderr",
     "output_type": "stream",
     "text": [
      "WARNING:absl:`lr` is deprecated in Keras optimizer, please use `learning_rate` or use the legacy optimizer, e.g.,tf.keras.optimizers.legacy.Adam.\n"
     ]
    },
    {
     "name": "stdout",
     "output_type": "stream",
     "text": [
      "\n",
      "\n",
      "Tested 5/10 iterations.\n",
      "Best MAE - Validation Dataset\n",
      "  MAE: 17.6 | sMAPE: 13.17 %\n",
      "\n",
      "Best MAE - Test Dataset\n",
      "  MAE: 15.7 | sMAPE: 14.10 %\n"
     ]
    },
    {
     "name": "stderr",
     "output_type": "stream",
     "text": [
      "WARNING:absl:`lr` is deprecated in Keras optimizer, please use `learning_rate` or use the legacy optimizer, e.g.,tf.keras.optimizers.legacy.Adam.\n"
     ]
    },
    {
     "name": "stdout",
     "output_type": "stream",
     "text": [
      "\n",
      "\n",
      "Tested 6/10 iterations.\n",
      "Best MAE - Validation Dataset\n",
      "  MAE: 17.6 | sMAPE: 13.17 %\n",
      "\n",
      "Best MAE - Test Dataset\n",
      "  MAE: 15.7 | sMAPE: 14.10 %\n"
     ]
    },
    {
     "name": "stderr",
     "output_type": "stream",
     "text": [
      "WARNING:absl:`lr` is deprecated in Keras optimizer, please use `learning_rate` or use the legacy optimizer, e.g.,tf.keras.optimizers.legacy.Adam.\n"
     ]
    },
    {
     "name": "stdout",
     "output_type": "stream",
     "text": [
      "\n",
      "\n",
      "Tested 7/10 iterations.\n",
      "Best MAE - Validation Dataset\n",
      "  MAE: 17.6 | sMAPE: 13.17 %\n",
      "\n",
      "Best MAE - Test Dataset\n",
      "  MAE: 15.7 | sMAPE: 14.10 %\n"
     ]
    },
    {
     "name": "stderr",
     "output_type": "stream",
     "text": [
      "WARNING:absl:`lr` is deprecated in Keras optimizer, please use `learning_rate` or use the legacy optimizer, e.g.,tf.keras.optimizers.legacy.Adam.\n"
     ]
    },
    {
     "name": "stdout",
     "output_type": "stream",
     "text": [
      "\n",
      "\n",
      "Tested 8/10 iterations.\n",
      "Best MAE - Validation Dataset\n",
      "  MAE: 17.6 | sMAPE: 13.17 %\n",
      "\n",
      "Best MAE - Test Dataset\n",
      "  MAE: 15.7 | sMAPE: 14.10 %\n"
     ]
    },
    {
     "name": "stderr",
     "output_type": "stream",
     "text": [
      "WARNING:absl:`lr` is deprecated in Keras optimizer, please use `learning_rate` or use the legacy optimizer, e.g.,tf.keras.optimizers.legacy.Adam.\n"
     ]
    },
    {
     "name": "stdout",
     "output_type": "stream",
     "text": [
      "\n",
      "\n",
      "Tested 9/10 iterations.\n",
      "Best MAE - Validation Dataset\n",
      "  MAE: 17.6 | sMAPE: 13.17 %\n",
      "\n",
      "Best MAE - Test Dataset\n",
      "  MAE: 15.7 | sMAPE: 14.10 %\n"
     ]
    },
    {
     "name": "stderr",
     "output_type": "stream",
     "text": [
      "WARNING:absl:`lr` is deprecated in Keras optimizer, please use `learning_rate` or use the legacy optimizer, e.g.,tf.keras.optimizers.legacy.Adam.\n"
     ]
    }
   ],
   "source": [
    "# Check documentation of the hyperparameter_optimizer for each of the function parameters\n",
    "# In this example, we optimize a model for the PJM market.\n",
    "# We consider two directories, one for storing the datasets and the other one for the experimental files.\n",
    "# We start a hyperparameter optimization from scratch. We employ 1500 iterations in hyperopt,\n",
    "# 2 years of test data, a DNN with 2 hidden layers, a calibration window of 4 years,\n",
    "# we avoid data augmentation,  and we provide an experiment_id equal to 1\n",
    "hyperparameter_optimizer(path_datasets_folder=path_datasets_folder, \n",
    "                         path_hyperparameters_folder=path_hyperparameters_folder, \n",
    "                         new_hyperopt=new_hyperopt, max_evals=max_evals, nlayers=nlayers, dataset=dataset, \n",
    "                         years_test=years_test, calibration_window=calibration_window, \n",
    "                         shuffle_train=shuffle_train, data_augmentation=0, experiment_id=experiment_id,\n",
    "                         begin_test_date=begin_test_date, end_test_date=end_test_date)"
   ]
  },
  {
   "cell_type": "code",
   "execution_count": 1977,
   "metadata": {},
   "outputs": [],
   "source": [
    "import pickle as pc\n",
    "\n",
    "# Percorso dove è stato salvato il file di ottimizzazione\n",
    "trials_file_path = os.path.join(path_hyperparameters_folder, 'DNN_hyperparameters_nl' + str(nlayers) +\n",
    "                                '_dat' + str(dataset) + '_YT' + str(years_test) + \n",
    "                                '_SF' * shuffle_train + '_DA' * data_augmentation + \n",
    "                                '_CW' + str(calibration_window) + '_' + str(experiment_id))\n",
    "\n",
    "# Caricare il file di trials salvato\n",
    "with open(trials_file_path, \"rb\") as f:\n",
    "    trials = pc.load(f)"
   ]
  },
  {
   "cell_type": "code",
   "execution_count": 1978,
   "metadata": {},
   "outputs": [
    {
     "data": {
      "text/plain": [
       "{'state': 2,\n",
       " 'tid': 3,\n",
       " 'spec': None,\n",
       " 'result': {'loss': 17.573514930662654,\n",
       "  'MAE Val': 17.573514930662654,\n",
       "  'MAE Test': 15.666296365706401,\n",
       "  'sMAPE Val': 13.166144286885892,\n",
       "  'sMAPE Test': 14.104128976450788,\n",
       "  'status': 'ok'},\n",
       " 'misc': {'tid': 3,\n",
       "  'cmd': ('domain_attachment', 'FMinIter_Domain'),\n",
       "  'workdir': None,\n",
       "  'idxs': {'In: Day': [3],\n",
       "   'In: Exog-1 D': [3],\n",
       "   'In: Exog-1 D-1': [3],\n",
       "   'In: Exog-1 D-7': [3],\n",
       "   'In: Exog-2 D': [3],\n",
       "   'In: Exog-2 D-1': [3],\n",
       "   'In: Exog-2 D-7': [3],\n",
       "   'In: Price D-1': [3],\n",
       "   'In: Price D-2': [3],\n",
       "   'In: Price D-3': [3],\n",
       "   'In: Price D-7': [3],\n",
       "   'activation': [3],\n",
       "   'batch_normalization': [3],\n",
       "   'dropout': [3],\n",
       "   'init': [3],\n",
       "   'lambdal1': [3],\n",
       "   'lr': [3],\n",
       "   'neurons1': [3],\n",
       "   'neurons2': [3],\n",
       "   'reg': [3],\n",
       "   'scaleX': [3],\n",
       "   'scaleY': [3],\n",
       "   'seed': [3]},\n",
       "  'vals': {'In: Day': [0],\n",
       "   'In: Exog-1 D': [0],\n",
       "   'In: Exog-1 D-1': [1],\n",
       "   'In: Exog-1 D-7': [0],\n",
       "   'In: Exog-2 D': [0],\n",
       "   'In: Exog-2 D-1': [1],\n",
       "   'In: Exog-2 D-7': [1],\n",
       "   'In: Price D-1': [0],\n",
       "   'In: Price D-2': [1],\n",
       "   'In: Price D-3': [1],\n",
       "   'In: Price D-7': [1],\n",
       "   'activation': [5],\n",
       "   'batch_normalization': [0],\n",
       "   'dropout': [0.1882870014065522],\n",
       "   'init': [2],\n",
       "   'lambdal1': [3.0391313721655832e-05],\n",
       "   'lr': [0.003128145657973478],\n",
       "   'neurons1': [147.0],\n",
       "   'neurons2': [170.0],\n",
       "   'reg': [1],\n",
       "   'scaleX': [5],\n",
       "   'scaleY': [2],\n",
       "   'seed': [946.0]}},\n",
       " 'exp_key': None,\n",
       " 'owner': None,\n",
       " 'version': 0,\n",
       " 'book_time': datetime.datetime(2024, 9, 23, 14, 13, 29, 264000),\n",
       " 'refresh_time': datetime.datetime(2024, 9, 23, 14, 14, 50, 279000)}"
      ]
     },
     "execution_count": 1978,
     "metadata": {},
     "output_type": "execute_result"
    }
   ],
   "source": [
    "# Miglior risultato dato dall'ottimizzatore\n",
    "trials.best_trial"
   ]
  },
  {
   "cell_type": "code",
   "execution_count": 1979,
   "metadata": {},
   "outputs": [],
   "source": [
    "# # Parametri migliori per la migliore configurazione\n",
    "best_trial = trials.best_trial"
   ]
  },
  {
   "cell_type": "code",
   "execution_count": 1980,
   "metadata": {},
   "outputs": [],
   "source": [
    "# Questa funzione del toolbox mette in automatico i parametri di ottimizzazione nel formato richiesto (dizionario) per il modello\n",
    "opt_hyperparams = format_best_trial(best_trial)"
   ]
  },
  {
   "cell_type": "code",
   "execution_count": 1981,
   "metadata": {},
   "outputs": [
    {
     "data": {
      "text/plain": [
       "{'In: Day': 0,\n",
       " 'In: Exog-1 D': 0,\n",
       " 'In: Exog-1 D-1': 1,\n",
       " 'In: Exog-1 D-7': 0,\n",
       " 'In: Exog-2 D': 0,\n",
       " 'In: Exog-2 D-1': 1,\n",
       " 'In: Exog-2 D-7': 1,\n",
       " 'In: Price D-1': 0,\n",
       " 'In: Price D-2': 1,\n",
       " 'In: Price D-3': 1,\n",
       " 'In: Price D-7': 1,\n",
       " 'activation': 'PReLU',\n",
       " 'batch_normalization': 0,\n",
       " 'dropout': 0.1882870014065522,\n",
       " 'init': 'glorot_uniform',\n",
       " 'lambdal1': 3.0391313721655832e-05,\n",
       " 'lr': 0.003128145657973478,\n",
       " 'neurons1': 147.0,\n",
       " 'neurons2': 170.0,\n",
       " 'reg': 'l1',\n",
       " 'scaleX': 'Invariant',\n",
       " 'scaleY': 'Norm1',\n",
       " 'seed': 946.0}"
      ]
     },
     "execution_count": 1981,
     "metadata": {},
     "output_type": "execute_result"
    }
   ],
   "source": [
    "opt_hyperparams"
   ]
  },
  {
   "cell_type": "markdown",
   "metadata": {},
   "source": [
    "### From dataframe to dataset (array)\n",
    "* Dataframe: Price, Ex 1 ed Ex 2 aggregate per data/ora\n",
    "* Dataset: Variabili sviluppate ossia ogni riga è un giorno e per ogni riga vengono considerate le variabili ottenute dalla Bayesian Optimization a livello orario (nota che comprende i lag e che i dati iniziano dal lag massimo + 1) e che non abbiamo 247 valori ma meno.\n",
    "\n",
    "train_df.shape[0]/24 - (X_train.shape[0] + X_val.shape[0]) = 7 -> massimo lag "
   ]
  },
  {
   "cell_type": "code",
   "execution_count": 1982,
   "metadata": {},
   "outputs": [],
   "source": [
    "# Metodo per passare da dataframe a dataset\n",
    "X_train, Y_train, X_val, Y_val, X_test, Y_test, indexTest = \\\n",
    "    _build_and_split_XYs(dfTrain=train_df,dfTest=test_df,  features=opt_hyperparams, n_exogenous_inputs=2, shuffle_train=True, percentage_val=0.25,\n",
    "                        date_test=None, hyperoptimization=True, data_augmentation=False)"
   ]
  },
  {
   "cell_type": "markdown",
   "metadata": {},
   "source": [
    "## Model definition"
   ]
  },
  {
   "cell_type": "code",
   "execution_count": 1986,
   "metadata": {},
   "outputs": [
    {
     "data": {
      "text/plain": [
       "{'state': 2,\n",
       " 'tid': 3,\n",
       " 'spec': None,\n",
       " 'result': {'loss': 17.573514930662654,\n",
       "  'MAE Val': 17.573514930662654,\n",
       "  'MAE Test': 15.666296365706401,\n",
       "  'sMAPE Val': 13.166144286885892,\n",
       "  'sMAPE Test': 14.104128976450788,\n",
       "  'status': 'ok'},\n",
       " 'misc': {'tid': 3,\n",
       "  'cmd': ('domain_attachment', 'FMinIter_Domain'),\n",
       "  'workdir': None,\n",
       "  'idxs': {'In: Day': [3],\n",
       "   'In: Exog-1 D': [3],\n",
       "   'In: Exog-1 D-1': [3],\n",
       "   'In: Exog-1 D-7': [3],\n",
       "   'In: Exog-2 D': [3],\n",
       "   'In: Exog-2 D-1': [3],\n",
       "   'In: Exog-2 D-7': [3],\n",
       "   'In: Price D-1': [3],\n",
       "   'In: Price D-2': [3],\n",
       "   'In: Price D-3': [3],\n",
       "   'In: Price D-7': [3],\n",
       "   'activation': [3],\n",
       "   'batch_normalization': [3],\n",
       "   'dropout': [3],\n",
       "   'init': [3],\n",
       "   'lambdal1': [3],\n",
       "   'lr': [3],\n",
       "   'neurons1': [3],\n",
       "   'neurons2': [3],\n",
       "   'reg': [3],\n",
       "   'scaleX': [3],\n",
       "   'scaleY': [3],\n",
       "   'seed': [3]},\n",
       "  'vals': {'In: Day': [0],\n",
       "   'In: Exog-1 D': [0],\n",
       "   'In: Exog-1 D-1': [1],\n",
       "   'In: Exog-1 D-7': [0],\n",
       "   'In: Exog-2 D': [0],\n",
       "   'In: Exog-2 D-1': [1],\n",
       "   'In: Exog-2 D-7': [1],\n",
       "   'In: Price D-1': [0],\n",
       "   'In: Price D-2': [1],\n",
       "   'In: Price D-3': [1],\n",
       "   'In: Price D-7': [1],\n",
       "   'activation': [5],\n",
       "   'batch_normalization': [0],\n",
       "   'dropout': [0.1882870014065522],\n",
       "   'init': [2],\n",
       "   'lambdal1': [3.0391313721655832e-05],\n",
       "   'lr': [0.003128145657973478],\n",
       "   'neurons1': [147.0],\n",
       "   'neurons2': [170.0],\n",
       "   'reg': [1],\n",
       "   'scaleX': [5],\n",
       "   'scaleY': [2],\n",
       "   'seed': [946.0]}},\n",
       " 'exp_key': None,\n",
       " 'owner': None,\n",
       " 'version': 0,\n",
       " 'book_time': datetime.datetime(2024, 9, 23, 14, 13, 29, 264000),\n",
       " 'refresh_time': datetime.datetime(2024, 9, 23, 14, 14, 50, 279000)}"
      ]
     },
     "execution_count": 1986,
     "metadata": {},
     "output_type": "execute_result"
    }
   ],
   "source": [
    "best_trial"
   ]
  },
  {
   "cell_type": "code",
   "execution_count": 1987,
   "metadata": {},
   "outputs": [],
   "source": [
    "model = DNN(experiment_id=1, path_hyperparameter_folder=path_hyperparameters_folder, nlayers=2,\n",
    "            dataset='IT', years_test=years_test, shuffle_train=1, data_augmentation=0, calibration_window=calibration_window) "
   ]
  },
  {
   "cell_type": "code",
   "execution_count": 1988,
   "metadata": {},
   "outputs": [],
   "source": [
    "# NOTA: in questo caso il metodo di regolarizzazione è scelto a priori dall'ottimizzatore degli iperparametri\n",
    "X_train_reg, X_val_reg, X_test_reg, Y_train_reg, Y_val_reg = model._regularize_data(X_train, X_val, X_test, Y_train, Y_val)"
   ]
  },
  {
   "cell_type": "code",
   "execution_count": 1989,
   "metadata": {},
   "outputs": [
    {
     "name": "stderr",
     "output_type": "stream",
     "text": [
      "WARNING:absl:`lr` is deprecated in Keras optimizer, please use `learning_rate` or use the legacy optimizer, e.g.,tf.keras.optimizers.legacy.Adam.\n"
     ]
    }
   ],
   "source": [
    "model.recalibrate(X_train_reg, Y_train_reg, X_val_reg, Y_val_reg)"
   ]
  }
 ],
 "metadata": {
  "kernelspec": {
   "display_name": "epftoolbox",
   "language": "python",
   "name": "python3"
  },
  "language_info": {
   "codemirror_mode": {
    "name": "ipython",
    "version": 3
   },
   "file_extension": ".py",
   "mimetype": "text/x-python",
   "name": "python",
   "nbconvert_exporter": "python",
   "pygments_lexer": "ipython3",
   "version": "3.10.14"
  }
 },
 "nbformat": 4,
 "nbformat_minor": 2
}
