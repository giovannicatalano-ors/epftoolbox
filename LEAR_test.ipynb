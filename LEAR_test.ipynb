{
 "cells": [
  {
   "cell_type": "markdown",
   "metadata": {},
   "source": [
    "### Data Loading"
   ]
  },
  {
   "cell_type": "code",
   "execution_count": 75,
   "metadata": {},
   "outputs": [],
   "source": [
    "import pandas as pd\n",
    "import numpy as np\n",
    "import matplotlib\n",
    "import matplotlib.pyplot as plt"
   ]
  },
  {
   "cell_type": "code",
   "execution_count": 76,
   "metadata": {},
   "outputs": [],
   "source": [
    "%run C:\\Users\\CTLGNN00C\\Documents\\GitHub\\epftoolbox\\epftoolbox\\data\\_datasets.py\n",
    "%run C:\\Users\\CTLGNN00C\\Documents\\GitHub\\epftoolbox\\epftoolbox\\models\\_lear.py"
   ]
  },
  {
   "cell_type": "code",
   "execution_count": 77,
   "metadata": {},
   "outputs": [],
   "source": [
    "path = \"C:/Users/CTLGNN00C/Documents/ENERGY/Progetto MGP\""
   ]
  },
  {
   "cell_type": "code",
   "execution_count": 78,
   "metadata": {},
   "outputs": [],
   "source": [
    "train_df, test_df = read_data(path, dataset = \"FR\") # Grouped dataframes (by date)"
   ]
  },
  {
   "cell_type": "markdown",
   "metadata": {},
   "source": [
    "## Pre-processing"
   ]
  },
  {
   "cell_type": "code",
   "execution_count": 79,
   "metadata": {},
   "outputs": [],
   "source": [
    "# Check indice iniziale\n",
    "if train_df.index[0].hour != 0 or test_df.index[0].hour != 0:\n",
    "    print('Problem with the index')"
   ]
  },
  {
   "cell_type": "code",
   "execution_count": 80,
   "metadata": {},
   "outputs": [],
   "source": [
    "# Numero di variabili esogene (tutte tranne il prezzo)\n",
    "n_exogenous_inputs = len(train_df.columns) - 1"
   ]
  },
  {
   "cell_type": "code",
   "execution_count": 81,
   "metadata": {},
   "outputs": [],
   "source": [
    "# Features: 96 prices + n_exogenous * (24 * 3 exogeneous) + 7 weekday dummies\n",
    "# Price lags: D-1, D-2, D-3, D-7\n",
    "# Exogeneous inputs lags: D, D-1, D-7\n",
    "\n",
    "n_features = 96 + 7 + n_exogenous_inputs * 72"
   ]
  },
  {
   "cell_type": "code",
   "execution_count": 82,
   "metadata": {},
   "outputs": [],
   "source": [
    "# Dato che compare il lag D-7 dobbiamo scartare almeno la prima settimana\n",
    "\n",
    "indexTrain = train_df.loc[train_df.index[0] + pd.Timedelta(weeks=1):].index"
   ]
  },
  {
   "cell_type": "code",
   "execution_count": 83,
   "metadata": {},
   "outputs": [],
   "source": [
    "date_test = None\n",
    "\n",
    "if date_test is None:\n",
    "    indexTest = test_df.loc[test_df.index[0] + pd.Timedelta(weeks=1):].index\n",
    "else:\n",
    "    indexTest = test_df.loc[date_test:date_test + pd.Timedelta(hours=23)].index\n"
   ]
  },
  {
   "cell_type": "code",
   "execution_count": 84,
   "metadata": {},
   "outputs": [],
   "source": [
    "# Seleziono un timestamp ogni 24 -> un valore giornaliero\n",
    "predDatesTrain = indexTrain.round('1h')[::24]\n",
    "predDatesTest = indexTest.round('1h')[::24]"
   ]
  },
  {
   "cell_type": "code",
   "execution_count": 85,
   "metadata": {},
   "outputs": [],
   "source": [
    "# Creiamo due datasets con tante colonne quante ore del giorno\n",
    "\n",
    "indexTrain = pd.DataFrame(index=predDatesTrain, columns=['h' + str(hour) for hour in range(24)])\n",
    "indexTest = pd.DataFrame(index=predDatesTest, columns=['h' + str(hour) for hour in range(24)])\n",
    "for hour in range(24):\n",
    "    indexTrain.loc[:, 'h' + str(hour)] = indexTrain.index + pd.Timedelta(hours=hour)\n",
    "    indexTest.loc[:, 'h' + str(hour)] = indexTest.index + pd.Timedelta(hours=hour)"
   ]
  },
  {
   "cell_type": "code",
   "execution_count": 108,
   "metadata": {},
   "outputs": [],
   "source": [
    "# Preallocamento della memoria\n",
    "X_train = np.zeros([indexTrain.shape[0], n_features])\n",
    "X_test = np.zeros([indexTest.shape[0], n_features])\n",
    "Y_train = np.zeros([indexTrain.shape[0], 24])"
   ]
  },
  {
   "cell_type": "code",
   "execution_count": 109,
   "metadata": {},
   "outputs": [],
   "source": [
    "feature_index = 0"
   ]
  },
  {
   "cell_type": "code",
   "execution_count": 110,
   "metadata": {},
   "outputs": [],
   "source": [
    "# Aggiungere i prezzi storici nei giorni D-1, D-2, D-3 e D-7\n",
    "\n",
    "\n",
    "for hour in range(24):\n",
    "    # Lag\n",
    "    for past_day in [1, 2, 3, 7]:\n",
    "\n",
    "        # definiamo gli indici temporali utilizzando dataframes di appoggio\n",
    "        pastIndexTrain = pd.to_datetime(indexTrain.loc[:, 'h' + str(hour)]) - pd.Timedelta(hours=24 * past_day)\n",
    "        pastIndexTest = pd.to_datetime(indexTest.loc[:, 'h' + str(hour)].values) - pd.Timedelta(hours=24 * past_day)\n",
    "\n",
    "        # Prezzi storici nei giorni passati all'ora h\n",
    "        X_train[:, feature_index] = train_df.loc[pastIndexTrain, 'Price']\n",
    "        X_test[:, feature_index] = test_df.loc[pastIndexTest, 'Price']\n",
    "        feature_index += 1"
   ]
  },
  {
   "cell_type": "code",
   "execution_count": 111,
   "metadata": {},
   "outputs": [
    {
     "data": {
      "text/plain": [
       "array([[36.538, 25.206, 31.041, ...,  0.   ,  0.   ,  0.   ],\n",
       "       [21.324, 36.538, 25.206, ...,  0.   ,  0.   ,  0.   ],\n",
       "       [22.727, 21.324, 36.538, ...,  0.   ,  0.   ,  0.   ],\n",
       "       ...,\n",
       "       [48.76 , 43.36 , 49.95 , ...,  0.   ,  0.   ,  0.   ],\n",
       "       [53.48 , 48.76 , 43.36 , ...,  0.   ,  0.   ,  0.   ],\n",
       "       [38.8  , 53.48 , 48.76 , ...,  0.   ,  0.   ,  0.   ]])"
      ]
     },
     "execution_count": 111,
     "metadata": {},
     "output_type": "execute_result"
    }
   ],
   "source": [
    "X_train"
   ]
  },
  {
   "cell_type": "code",
   "execution_count": 112,
   "metadata": {},
   "outputs": [],
   "source": [
    "# Variabili esogene nei giorni D, D-1,  D-7\n",
    "\n",
    "for hour in range(24):\n",
    "    for past_day in [1, 7]:\n",
    "        \n",
    "        for exog in range(1, n_exogenous_inputs + 1):\n",
    "\n",
    "            # Definying the corresponding past time indexs using the auxiliary dataframses \n",
    "            pastIndexTrain = pd.to_datetime(indexTrain.loc[:, 'h' + str(hour)].values) - \\\n",
    "                pd.Timedelta(hours=24 * past_day)\n",
    "            pastIndexTest = pd.to_datetime(indexTest.loc[:, 'h' + str(hour)].values) - \\\n",
    "                pd.Timedelta(hours=24 * past_day)\n",
    "\n",
    "            # Including the exogenous input at day D-past_day and hour \"h\" \n",
    "            X_train[:, feature_index] = train_df.loc[pastIndexTrain, 'Exogenous ' + str(exog)]                    \n",
    "            X_test[:, feature_index] = test_df.loc[pastIndexTest, 'Exogenous ' + str(exog)]\n",
    "            feature_index += 1\n",
    "\n",
    "    # For each of the exogenous inputs we include feature if feature selection indicates it\n",
    "    for exog in range(1, n_exogenous_inputs + 1):\n",
    "        \n",
    "        # Definying the corresponding future time indexs using the auxiliary dataframses \n",
    "        futureIndexTrain = pd.to_datetime(indexTrain.loc[:, 'h' + str(hour)].values)\n",
    "        futureIndexTest = pd.to_datetime(indexTest.loc[:, 'h' + str(hour)].values)\n",
    "\n",
    "        # Including the exogenous input at day D and hour \"h\" \n",
    "        X_train[:, feature_index] = train_df.loc[futureIndexTrain, 'Exogenous ' + str(exog)]        \n",
    "        X_test[:, feature_index] = test_df.loc[futureIndexTest, 'Exogenous ' + str(exog)] \n",
    "        feature_index += 1"
   ]
  },
  {
   "cell_type": "code",
   "execution_count": 124,
   "metadata": {},
   "outputs": [],
   "source": [
    "# Aggiungiamo le variabily dummy\n",
    "\n",
    "for dayofweek in range(7):\n",
    "    X_train[indexTrain.index.dayofweek == dayofweek, feature_index] = 1\n",
    "    X_test[indexTest.index.dayofweek == dayofweek, feature_index] = 1\n",
    "    feature_index += 1\n",
    "\n",
    "    # Estrazione dei valori predetti di y\n",
    "    for hour in range(24):\n",
    "        # Definizione degli indici di tempo all'ora h\n",
    "        futureIndexTrain = pd.to_datetime(indexTrain.loc[:, 'h' + str(hour)].values)\n",
    "        futureIndexTest = pd.to_datetime(indexTest.loc[:, 'h' + str(hour)].values)\n",
    "\n",
    "        # Estrazione dei valori di Y basandoci sugli indici di tempo\n",
    "        Y_train[:, hour] = train_df.loc[futureIndexTrain, 'Price']"
   ]
  },
  {
   "cell_type": "code",
   "execution_count": 134,
   "metadata": {},
   "outputs": [],
   "source": [
    "model = LEAR(calibration_window=364*3)\n",
    "\n",
    "model.recalibrate(X_train, Y_train)"
   ]
  },
  {
   "cell_type": "code",
   "execution_count": 135,
   "metadata": {},
   "outputs": [
    {
     "ename": "ValueError",
     "evalue": "setting an array element with a sequence.",
     "output_type": "error",
     "traceback": [
      "\u001b[1;31m---------------------------------------------------------------------------\u001b[0m",
      "\u001b[1;31mTypeError\u001b[0m                                 Traceback (most recent call last)",
      "\u001b[1;31mTypeError\u001b[0m: only length-1 arrays can be converted to Python scalars",
      "\nThe above exception was the direct cause of the following exception:\n",
      "\u001b[1;31mValueError\u001b[0m                                Traceback (most recent call last)",
      "Cell \u001b[1;32mIn[135], line 1\u001b[0m\n\u001b[1;32m----> 1\u001b[0m \u001b[43mmodel\u001b[49m\u001b[38;5;241;43m.\u001b[39;49m\u001b[43mpredict\u001b[49m\u001b[43m(\u001b[49m\u001b[43mX_test\u001b[49m\u001b[43m)\u001b[49m\n",
      "File \u001b[1;32m~\\Documents\\GitHub\\epftoolbox\\epftoolbox\\models\\_lear.py:109\u001b[0m, in \u001b[0;36mLEAR.predict\u001b[1;34m(self, X)\u001b[0m\n\u001b[0;32m    105\u001b[0m \u001b[38;5;66;03m# Predicting the current date using a recalibrated LEAR\u001b[39;00m\n\u001b[0;32m    106\u001b[0m \u001b[38;5;28;01mfor\u001b[39;00m h \u001b[38;5;129;01min\u001b[39;00m \u001b[38;5;28mrange\u001b[39m(\u001b[38;5;241m24\u001b[39m):\n\u001b[0;32m    107\u001b[0m \n\u001b[0;32m    108\u001b[0m     \u001b[38;5;66;03m# Predicting test dataset and saving\u001b[39;00m\n\u001b[1;32m--> 109\u001b[0m     \u001b[43mYp\u001b[49m\u001b[43m[\u001b[49m\u001b[43mh\u001b[49m\u001b[43m]\u001b[49m \u001b[38;5;241m=\u001b[39m \u001b[38;5;28mself\u001b[39m\u001b[38;5;241m.\u001b[39mmodels[h]\u001b[38;5;241m.\u001b[39mpredict(X)\n\u001b[0;32m    111\u001b[0m Yp \u001b[38;5;241m=\u001b[39m \u001b[38;5;28mself\u001b[39m\u001b[38;5;241m.\u001b[39mscalerY\u001b[38;5;241m.\u001b[39minverse_transform(Yp\u001b[38;5;241m.\u001b[39mreshape(\u001b[38;5;241m1\u001b[39m, \u001b[38;5;241m-\u001b[39m\u001b[38;5;241m1\u001b[39m))\n\u001b[0;32m    113\u001b[0m \u001b[38;5;28;01mreturn\u001b[39;00m Yp\n",
      "\u001b[1;31mValueError\u001b[0m: setting an array element with a sequence."
     ]
    }
   ],
   "source": [
    "model.predict(X_test)"
   ]
  }
 ],
 "metadata": {
  "kernelspec": {
   "display_name": "epftoolbox",
   "language": "python",
   "name": "python3"
  },
  "language_info": {
   "codemirror_mode": {
    "name": "ipython",
    "version": 3
   },
   "file_extension": ".py",
   "mimetype": "text/x-python",
   "name": "python",
   "nbconvert_exporter": "python",
   "pygments_lexer": "ipython3",
   "version": "3.10.14"
  }
 },
 "nbformat": 4,
 "nbformat_minor": 2
}
