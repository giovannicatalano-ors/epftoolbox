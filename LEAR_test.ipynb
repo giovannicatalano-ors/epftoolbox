{
 "cells": [
  {
   "cell_type": "markdown",
   "metadata": {},
   "source": [
    "### Data Loading"
   ]
  },
  {
   "cell_type": "code",
   "execution_count": 137,
   "metadata": {},
   "outputs": [],
   "source": [
    "import pandas as pd\n",
    "import numpy as np\n",
    "import matplotlib\n",
    "import matplotlib.pyplot as plt"
   ]
  },
  {
   "cell_type": "code",
   "execution_count": 163,
   "metadata": {},
   "outputs": [],
   "source": [
    "%run C:\\Users\\CTLGNN00C\\Documents\\GitHub\\epftoolbox\\epftoolbox\\data\\_datasets.py\n",
    "%run C:\\Users\\CTLGNN00C\\Documents\\GitHub\\epftoolbox\\epftoolbox\\models\\_lear.py"
   ]
  },
  {
   "cell_type": "code",
   "execution_count": 139,
   "metadata": {},
   "outputs": [],
   "source": [
    "path = \"C:/Users/CTLGNN00C/Documents/ENERGY/Progetto MGP\""
   ]
  },
  {
   "cell_type": "code",
   "execution_count": 140,
   "metadata": {},
   "outputs": [],
   "source": [
    "train_df, test_df = read_data(path, dataset = \"FR\") # Grouped dataframes (by date)"
   ]
  },
  {
   "cell_type": "markdown",
   "metadata": {},
   "source": [
    "## Pre-processing"
   ]
  },
  {
   "cell_type": "code",
   "execution_count": 141,
   "metadata": {},
   "outputs": [],
   "source": [
    "# Check indice iniziale\n",
    "if train_df.index[0].hour != 0 or test_df.index[0].hour != 0:\n",
    "    print('Problem with the index')"
   ]
  },
  {
   "cell_type": "code",
   "execution_count": 142,
   "metadata": {},
   "outputs": [],
   "source": [
    "# Numero di variabili esogene (tutte tranne il prezzo)\n",
    "n_exogenous_inputs = len(train_df.columns) - 1"
   ]
  },
  {
   "cell_type": "code",
   "execution_count": 143,
   "metadata": {},
   "outputs": [],
   "source": [
    "# Features: 96 prices + n_exogenous * (24 * 3 exogeneous) + 7 weekday dummies\n",
    "# Price lags: D-1, D-2, D-3, D-7\n",
    "# Exogeneous inputs lags: D, D-1, D-7\n",
    "\n",
    "n_features = 96 + 7 + n_exogenous_inputs * 72"
   ]
  },
  {
   "cell_type": "code",
   "execution_count": 144,
   "metadata": {},
   "outputs": [],
   "source": [
    "# Dato che compare il lag D-7 dobbiamo scartare almeno la prima settimana\n",
    "\n",
    "indexTrain = train_df.loc[train_df.index[0] + pd.Timedelta(weeks=1):].index"
   ]
  },
  {
   "cell_type": "code",
   "execution_count": 145,
   "metadata": {},
   "outputs": [],
   "source": [
    "date_test = None\n",
    "\n",
    "if date_test is None:\n",
    "    indexTest = test_df.loc[test_df.index[0] + pd.Timedelta(weeks=1):].index\n",
    "else:\n",
    "    indexTest = test_df.loc[date_test:date_test + pd.Timedelta(hours=23)].index\n"
   ]
  },
  {
   "cell_type": "code",
   "execution_count": 146,
   "metadata": {},
   "outputs": [],
   "source": [
    "# Seleziono un timestamp ogni 24 -> un valore giornaliero\n",
    "predDatesTrain = indexTrain.round('1h')[::24]\n",
    "predDatesTest = indexTest.round('1h')[::24]"
   ]
  },
  {
   "cell_type": "code",
   "execution_count": 147,
   "metadata": {},
   "outputs": [],
   "source": [
    "# Creiamo due datasets con tante colonne quante ore del giorno\n",
    "\n",
    "indexTrain = pd.DataFrame(index=predDatesTrain, columns=['h' + str(hour) for hour in range(24)])\n",
    "indexTest = pd.DataFrame(index=predDatesTest, columns=['h' + str(hour) for hour in range(24)])\n",
    "for hour in range(24):\n",
    "    indexTrain.loc[:, 'h' + str(hour)] = indexTrain.index + pd.Timedelta(hours=hour)\n",
    "    indexTest.loc[:, 'h' + str(hour)] = indexTest.index + pd.Timedelta(hours=hour)"
   ]
  },
  {
   "cell_type": "code",
   "execution_count": 148,
   "metadata": {},
   "outputs": [],
   "source": [
    "# Preallocamento della memoria\n",
    "X_train = np.zeros([indexTrain.shape[0], n_features])\n",
    "X_test = np.zeros([indexTest.shape[0], n_features])\n",
    "Y_train = np.zeros([indexTrain.shape[0], 24])"
   ]
  },
  {
   "cell_type": "code",
   "execution_count": 149,
   "metadata": {},
   "outputs": [],
   "source": [
    "feature_index = 0"
   ]
  },
  {
   "cell_type": "code",
   "execution_count": 150,
   "metadata": {},
   "outputs": [],
   "source": [
    "# Aggiungere i prezzi storici nei giorni D-1, D-2, D-3 e D-7\n",
    "\n",
    "\n",
    "for hour in range(24):\n",
    "    # Lag\n",
    "    for past_day in [1, 2, 3, 7]:\n",
    "\n",
    "        # definiamo gli indici temporali utilizzando dataframes di appoggio\n",
    "        pastIndexTrain = pd.to_datetime(indexTrain.loc[:, 'h' + str(hour)]) - pd.Timedelta(hours=24 * past_day)\n",
    "        pastIndexTest = pd.to_datetime(indexTest.loc[:, 'h' + str(hour)].values) - pd.Timedelta(hours=24 * past_day)\n",
    "\n",
    "        # Prezzi storici nei giorni passati all'ora h\n",
    "        X_train[:, feature_index] = train_df.loc[pastIndexTrain, 'Price']\n",
    "        X_test[:, feature_index] = test_df.loc[pastIndexTest, 'Price']\n",
    "        feature_index += 1"
   ]
  },
  {
   "cell_type": "code",
   "execution_count": 151,
   "metadata": {},
   "outputs": [
    {
     "data": {
      "text/plain": [
       "array([[36.538, 25.206, 31.041, ...,  0.   ,  0.   ,  0.   ],\n",
       "       [21.324, 36.538, 25.206, ...,  0.   ,  0.   ,  0.   ],\n",
       "       [22.727, 21.324, 36.538, ...,  0.   ,  0.   ,  0.   ],\n",
       "       ...,\n",
       "       [48.76 , 43.36 , 49.95 , ...,  0.   ,  0.   ,  0.   ],\n",
       "       [53.48 , 48.76 , 43.36 , ...,  0.   ,  0.   ,  0.   ],\n",
       "       [38.8  , 53.48 , 48.76 , ...,  0.   ,  0.   ,  0.   ]])"
      ]
     },
     "execution_count": 151,
     "metadata": {},
     "output_type": "execute_result"
    }
   ],
   "source": [
    "X_train"
   ]
  },
  {
   "cell_type": "code",
   "execution_count": 152,
   "metadata": {},
   "outputs": [],
   "source": [
    "# Variabili esogene nei giorni D, D-1,  D-7\n",
    "\n",
    "for hour in range(24):\n",
    "    for past_day in [1, 7]:\n",
    "        \n",
    "        for exog in range(1, n_exogenous_inputs + 1):\n",
    "\n",
    "            # Definying the corresponding past time indexs using the auxiliary dataframses \n",
    "            pastIndexTrain = pd.to_datetime(indexTrain.loc[:, 'h' + str(hour)].values) - \\\n",
    "                pd.Timedelta(hours=24 * past_day)\n",
    "            pastIndexTest = pd.to_datetime(indexTest.loc[:, 'h' + str(hour)].values) - \\\n",
    "                pd.Timedelta(hours=24 * past_day)\n",
    "\n",
    "            # Including the exogenous input at day D-past_day and hour \"h\" \n",
    "            X_train[:, feature_index] = train_df.loc[pastIndexTrain, 'Exogenous ' + str(exog)]                    \n",
    "            X_test[:, feature_index] = test_df.loc[pastIndexTest, 'Exogenous ' + str(exog)]\n",
    "            feature_index += 1\n",
    "\n",
    "    # For each of the exogenous inputs we include feature if feature selection indicates it\n",
    "    for exog in range(1, n_exogenous_inputs + 1):\n",
    "        \n",
    "        # Definying the corresponding future time indexs using the auxiliary dataframses \n",
    "        futureIndexTrain = pd.to_datetime(indexTrain.loc[:, 'h' + str(hour)].values)\n",
    "        futureIndexTest = pd.to_datetime(indexTest.loc[:, 'h' + str(hour)].values)\n",
    "\n",
    "        # Including the exogenous input at day D and hour \"h\" \n",
    "        X_train[:, feature_index] = train_df.loc[futureIndexTrain, 'Exogenous ' + str(exog)]        \n",
    "        X_test[:, feature_index] = test_df.loc[futureIndexTest, 'Exogenous ' + str(exog)] \n",
    "        feature_index += 1"
   ]
  },
  {
   "cell_type": "code",
   "execution_count": 153,
   "metadata": {},
   "outputs": [],
   "source": [
    "# Aggiungiamo le variabily dummy\n",
    "\n",
    "for dayofweek in range(7):\n",
    "    X_train[indexTrain.index.dayofweek == dayofweek, feature_index] = 1\n",
    "    X_test[indexTest.index.dayofweek == dayofweek, feature_index] = 1\n",
    "    feature_index += 1\n",
    "\n",
    "    # Estrazione dei valori predetti di y\n",
    "    for hour in range(24):\n",
    "        # Definizione degli indici di tempo all'ora h\n",
    "        futureIndexTrain = pd.to_datetime(indexTrain.loc[:, 'h' + str(hour)].values)\n",
    "        futureIndexTest = pd.to_datetime(indexTest.loc[:, 'h' + str(hour)].values)\n",
    "\n",
    "        # Estrazione dei valori di Y basandoci sugli indici di tempo\n",
    "        Y_train[:, hour] = train_df.loc[futureIndexTrain, 'Price']"
   ]
  },
  {
   "cell_type": "code",
   "execution_count": 160,
   "metadata": {},
   "outputs": [],
   "source": [
    "model = LEAR(calibration_window=364*3)\n",
    "\n",
    "model.recalibrate(X_train, Y_train)"
   ]
  },
  {
   "cell_type": "code",
   "execution_count": 166,
   "metadata": {},
   "outputs": [
    {
     "ename": "AttributeError",
     "evalue": "'LEAR' object has no attribute 'predict_days'",
     "output_type": "error",
     "traceback": [
      "\u001b[1;31m---------------------------------------------------------------------------\u001b[0m",
      "\u001b[1;31mAttributeError\u001b[0m                            Traceback (most recent call last)",
      "Cell \u001b[1;32mIn[166], line 1\u001b[0m\n\u001b[1;32m----> 1\u001b[0m \u001b[43mmodel\u001b[49m\u001b[38;5;241;43m.\u001b[39;49m\u001b[43mpredict_days\u001b[49m(X_test)\n",
      "\u001b[1;31mAttributeError\u001b[0m: 'LEAR' object has no attribute 'predict_days'"
     ]
    }
   ],
   "source": [
    "model.predict_days(X_test)"
   ]
  },
  {
   "cell_type": "code",
   "execution_count": 158,
   "metadata": {},
   "outputs": [
    {
     "data": {
      "text/plain": [
       "array([[19.04, 32.06, 43.88, ...,  0.  ,  0.  ,  1.  ],\n",
       "       [26.95, 19.04, 32.06, ...,  0.  ,  0.  ,  0.  ],\n",
       "       [27.59, 26.95, 19.04, ...,  0.  ,  0.  ,  0.  ],\n",
       "       ...,\n",
       "       [48.31, 49.97, 47.  , ...,  0.  ,  0.  ,  0.  ],\n",
       "       [42.4 , 48.31, 49.97, ...,  1.  ,  0.  ,  0.  ],\n",
       "       [50.91, 42.4 , 48.31, ...,  0.  ,  1.  ,  0.  ]])"
      ]
     },
     "execution_count": 158,
     "metadata": {},
     "output_type": "execute_result"
    }
   ],
   "source": [
    "X_test"
   ]
  }
 ],
 "metadata": {
  "kernelspec": {
   "display_name": "epftoolbox",
   "language": "python",
   "name": "python3"
  },
  "language_info": {
   "codemirror_mode": {
    "name": "ipython",
    "version": 3
   },
   "file_extension": ".py",
   "mimetype": "text/x-python",
   "name": "python",
   "nbconvert_exporter": "python",
   "pygments_lexer": "ipython3",
   "version": "3.10.14"
  }
 },
 "nbformat": 4,
 "nbformat_minor": 2
}
